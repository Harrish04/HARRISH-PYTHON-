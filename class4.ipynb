{
 "cells": [
  {
   "cell_type": "markdown",
   "id": "d38ab0e6",
   "metadata": {},
   "source": [
    "# comprehensions in python"
   ]
  },
  {
   "cell_type": "code",
   "execution_count": 2,
   "id": "7f02fbc1",
   "metadata": {},
   "outputs": [],
   "source": [
    "# [<experssion> for <var> in <sequence> if <condition>]"
   ]
  },
  {
   "cell_type": "markdown",
   "id": "32fab09b",
   "metadata": {},
   "source": [
    "### Rules"
   ]
  },
  {
   "cell_type": "markdown",
   "id": "ba43dafa",
   "metadata": {},
   "source": [
    "Identify the sequence\n",
    "check for condition(optional)\n",
    "write the expression\n",
    "enclose it in mutable data structure"
   ]
  },
  {
   "cell_type": "code",
   "execution_count": 1,
   "id": "dbe90ff4",
   "metadata": {},
   "outputs": [
    {
     "data": {
      "text/plain": [
       "[1, 4, 9, 16, 25, 36, 49, 64, 81, 100]"
      ]
     },
     "execution_count": 1,
     "metadata": {},
     "output_type": "execute_result"
    }
   ],
   "source": [
    "[i**2 for i in range(1,11)]"
   ]
  },
  {
   "cell_type": "code",
   "execution_count": 2,
   "id": "6edc555d",
   "metadata": {},
   "outputs": [
    {
     "data": {
      "text/plain": [
       "[4, 16, 36, 64, 100]"
      ]
     },
     "execution_count": 2,
     "metadata": {},
     "output_type": "execute_result"
    }
   ],
   "source": [
    "[i**2 for i in range(1,11) if i%2 ==0]"
   ]
  },
  {
   "cell_type": "markdown",
   "id": "5c5edb51",
   "metadata": {},
   "source": [
    "#### dict of square number"
   ]
  },
  {
   "cell_type": "code",
   "execution_count": 3,
   "id": "8212eb4a",
   "metadata": {},
   "outputs": [
    {
     "data": {
      "text/plain": [
       "{1: 1, 2: 4, 3: 9, 4: 16, 5: 25, 6: 36, 7: 49, 8: 64, 9: 81, 10: 100}"
      ]
     },
     "execution_count": 3,
     "metadata": {},
     "output_type": "execute_result"
    }
   ],
   "source": [
    "{i : i**2 for i in range(1,11)}"
   ]
  },
  {
   "cell_type": "code",
   "execution_count": 4,
   "id": "222ef9a5",
   "metadata": {},
   "outputs": [
    {
     "data": {
      "text/plain": [
       "{1: 'odd',\n",
       " 2: 'even',\n",
       " 3: 'odd',\n",
       " 4: 'even',\n",
       " 5: 'odd',\n",
       " 6: 'even',\n",
       " 7: 'odd',\n",
       " 8: 'even',\n",
       " 9: 'odd',\n",
       " 10: 'even'}"
      ]
     },
     "execution_count": 4,
     "metadata": {},
     "output_type": "execute_result"
    }
   ],
   "source": [
    "{i : \"even\"if i%2==0 else \"odd\" for i in range(1,11)}"
   ]
  },
  {
   "cell_type": "markdown",
   "id": "e00caf93",
   "metadata": {},
   "source": [
    "#### sum of the all values in sales tuple"
   ]
  },
  {
   "cell_type": "code",
   "execution_count": 2,
   "id": "022ef448",
   "metadata": {
    "scrolled": true
   },
   "outputs": [
    {
     "data": {
      "text/plain": [
       "2240"
      ]
     },
     "execution_count": 2,
     "metadata": {},
     "output_type": "execute_result"
    }
   ],
   "source": [
    "sales=[\"$290\",\"$500\",\"$800\",\"$650\"]\n",
    "sum([int(l.strip(\"$\"))for l in sales])"
   ]
  },
  {
   "cell_type": "markdown",
   "id": "7ff567b4",
   "metadata": {},
   "source": [
    "#### extract all the numbers for the string"
   ]
  },
  {
   "cell_type": "code",
   "execution_count": 6,
   "id": "7788dc91",
   "metadata": {},
   "outputs": [
    {
     "data": {
      "text/plain": [
       "[1, 2, 3, 4]"
      ]
     },
     "execution_count": 6,
     "metadata": {},
     "output_type": "execute_result"
    }
   ],
   "source": [
    "string=\"abcd1234\"\n",
    "[int(i) for i in string if i.isdigit()]"
   ]
  },
  {
   "cell_type": "markdown",
   "id": "0921739d",
   "metadata": {},
   "source": [
    "### mention all the even number proceed in list"
   ]
  },
  {
   "cell_type": "code",
   "execution_count": 7,
   "id": "b910b4cc",
   "metadata": {},
   "outputs": [
    {
     "data": {
      "text/plain": [
       "[2, 4, 6, 90, 8, 10]"
      ]
     },
     "execution_count": 7,
     "metadata": {},
     "output_type": "execute_result"
    }
   ],
   "source": [
    "l=[2,4,3,5,6,7,11,90,3,8,10,11]\n",
    "[i for i in l if i%2==0]"
   ]
  },
  {
   "cell_type": "code",
   "execution_count": 9,
   "id": "e81a7b56",
   "metadata": {},
   "outputs": [
    {
     "name": "stdout",
     "output_type": "stream",
     "text": [
      "Enter the number -15\n"
     ]
    }
   ],
   "source": [
    "num=int(input(\"Enter the number -\"))"
   ]
  },
  {
   "cell_type": "code",
   "execution_count": null,
   "id": "3235d02b",
   "metadata": {},
   "outputs": [],
   "source": []
  },
  {
   "cell_type": "code",
   "execution_count": null,
   "id": "a7d02b46",
   "metadata": {},
   "outputs": [],
   "source": []
  },
  {
   "cell_type": "code",
   "execution_count": null,
   "id": "85a3625e",
   "metadata": {},
   "outputs": [],
   "source": []
  },
  {
   "cell_type": "code",
   "execution_count": null,
   "id": "7fc9e761",
   "metadata": {},
   "outputs": [],
   "source": []
  },
  {
   "cell_type": "markdown",
   "id": "eaf42526",
   "metadata": {},
   "source": [
    "# Functions in python"
   ]
  },
  {
   "cell_type": "code",
   "execution_count": 11,
   "id": "19ef8af4",
   "metadata": {},
   "outputs": [],
   "source": [
    "def factorial(num):\n",
    "    fact=1\n",
    "    for i in range(1,num+1):\n",
    "        fact=fact*i\n",
    "    return fact"
   ]
  },
  {
   "cell_type": "code",
   "execution_count": 12,
   "id": "034adc1e",
   "metadata": {},
   "outputs": [
    {
     "data": {
      "text/plain": [
       "120"
      ]
     },
     "execution_count": 12,
     "metadata": {},
     "output_type": "execute_result"
    }
   ],
   "source": [
    "factorial(5)"
   ]
  },
  {
   "cell_type": "markdown",
   "id": "09d1d1ac",
   "metadata": {},
   "source": [
    "##### Req Positional Argument"
   ]
  },
  {
   "cell_type": "code",
   "execution_count": 56,
   "id": "34ce25d9",
   "metadata": {},
   "outputs": [],
   "source": [
    "def demo(name,age):\n",
    "    print(\"Name -\",name)\n",
    "    print(\"Age -\",age)"
   ]
  },
  {
   "cell_type": "code",
   "execution_count": 58,
   "id": "91120d4c",
   "metadata": {},
   "outputs": [
    {
     "name": "stdout",
     "output_type": "stream",
     "text": [
      "Name - john\n",
      "Age - 23\n"
     ]
    }
   ],
   "source": [
    "demo(\"john\",23)"
   ]
  },
  {
   "cell_type": "markdown",
   "id": "ab65e4a3",
   "metadata": {},
   "source": [
    "#### Default Argument"
   ]
  },
  {
   "cell_type": "code",
   "execution_count": 62,
   "id": "c6c49e37",
   "metadata": {},
   "outputs": [],
   "source": [
    "def demo(name,age=30): #default argument is set,if we pass it will set for that\n",
    "    print(\"Name -\",name)\n",
    "    print(\"Age -\",age)"
   ]
  },
  {
   "cell_type": "code",
   "execution_count": 60,
   "id": "4bdb1205",
   "metadata": {},
   "outputs": [
    {
     "name": "stdout",
     "output_type": "stream",
     "text": [
      "Name - john\n",
      "Age - 30\n"
     ]
    }
   ],
   "source": [
    "demo(\"john\")"
   ]
  },
  {
   "cell_type": "markdown",
   "id": "8e447a43",
   "metadata": {},
   "source": [
    "#### Variable-length Argument"
   ]
  },
  {
   "cell_type": "code",
   "execution_count": 63,
   "id": "c000e7b2",
   "metadata": {},
   "outputs": [],
   "source": [
    "def demo(*args):\n",
    "    print(args)"
   ]
  },
  {
   "cell_type": "code",
   "execution_count": 67,
   "id": "ace8656f",
   "metadata": {},
   "outputs": [
    {
     "name": "stdout",
     "output_type": "stream",
     "text": [
      "(1, 2, 3, 4, 5)\n"
     ]
    }
   ],
   "source": [
    "demo(1,2,3,4,5)"
   ]
  },
  {
   "cell_type": "code",
   "execution_count": 68,
   "id": "7a6232a9",
   "metadata": {},
   "outputs": [
    {
     "data": {
      "text/plain": [
       "[4, 3, 2, 1]"
      ]
     },
     "execution_count": 68,
     "metadata": {},
     "output_type": "execute_result"
    }
   ],
   "source": [
    "sorted([1,3,2,4],reverse=True)"
   ]
  },
  {
   "cell_type": "code",
   "execution_count": 69,
   "id": "81e198bd",
   "metadata": {},
   "outputs": [
    {
     "data": {
      "text/plain": [
       "6"
      ]
     },
     "execution_count": 69,
     "metadata": {},
     "output_type": "execute_result"
    }
   ],
   "source": [
    "factorial(3)"
   ]
  },
  {
   "cell_type": "code",
   "execution_count": 72,
   "id": "51326bdf",
   "metadata": {},
   "outputs": [],
   "source": [
    "var=factorial #(function object)"
   ]
  },
  {
   "cell_type": "code",
   "execution_count": 71,
   "id": "3c875507",
   "metadata": {},
   "outputs": [
    {
     "data": {
      "text/plain": [
       "120"
      ]
     },
     "execution_count": 71,
     "metadata": {},
     "output_type": "execute_result"
    }
   ],
   "source": [
    "var(5)"
   ]
  },
  {
   "cell_type": "code",
   "execution_count": 73,
   "id": "751d91ac",
   "metadata": {},
   "outputs": [],
   "source": [
    "def func(a,b):\n",
    "    if a<b:\n",
    "        return a\n",
    "    else:\n",
    "        return b"
   ]
  },
  {
   "cell_type": "markdown",
   "id": "bbd8f0f6",
   "metadata": {},
   "source": [
    "#### function call"
   ]
  },
  {
   "cell_type": "code",
   "execution_count": 75,
   "id": "8e18a182",
   "metadata": {},
   "outputs": [
    {
     "data": {
      "text/plain": [
       "2"
      ]
     },
     "execution_count": 75,
     "metadata": {},
     "output_type": "execute_result"
    }
   ],
   "source": [
    "new=func(2,4)\n",
    "x"
   ]
  },
  {
   "cell_type": "code",
   "execution_count": 76,
   "id": "49a60301",
   "metadata": {},
   "outputs": [],
   "source": [
    "new=func"
   ]
  },
  {
   "cell_type": "code",
   "execution_count": 77,
   "id": "d4e5688e",
   "metadata": {},
   "outputs": [
    {
     "data": {
      "text/plain": [
       "2"
      ]
     },
     "execution_count": 77,
     "metadata": {},
     "output_type": "execute_result"
    }
   ],
   "source": [
    "new(2,4)"
   ]
  },
  {
   "cell_type": "code",
   "execution_count": 79,
   "id": "a5a8ae43",
   "metadata": {},
   "outputs": [
    {
     "data": {
      "text/plain": [
       "120"
      ]
     },
     "execution_count": 79,
     "metadata": {},
     "output_type": "execute_result"
    }
   ],
   "source": [
    "var(5)"
   ]
  },
  {
   "cell_type": "markdown",
   "id": "e6cfb52e",
   "metadata": {},
   "source": [
    "# Lambda function"
   ]
  },
  {
   "cell_type": "code",
   "execution_count": 80,
   "id": "979a301c",
   "metadata": {},
   "outputs": [
    {
     "data": {
      "text/plain": [
       "<function __main__.<lambda>(a, b)>"
      ]
     },
     "execution_count": 80,
     "metadata": {},
     "output_type": "execute_result"
    }
   ],
   "source": [
    "lambda  a,b : a*b"
   ]
  },
  {
   "cell_type": "code",
   "execution_count": 81,
   "id": "e7d560ec",
   "metadata": {},
   "outputs": [],
   "source": [
    "mul=lambda a,b : a*b"
   ]
  },
  {
   "cell_type": "code",
   "execution_count": 82,
   "id": "e66fcddb",
   "metadata": {},
   "outputs": [
    {
     "data": {
      "text/plain": [
       "6"
      ]
     },
     "execution_count": 82,
     "metadata": {},
     "output_type": "execute_result"
    }
   ],
   "source": [
    "mul(3,2)"
   ]
  },
  {
   "cell_type": "code",
   "execution_count": 83,
   "id": "25bc2547",
   "metadata": {},
   "outputs": [
    {
     "data": {
      "text/plain": [
       "'even'"
      ]
     },
     "execution_count": 83,
     "metadata": {},
     "output_type": "execute_result"
    }
   ],
   "source": [
    "even_odd=lambda x : \"even\" if x%2==0 else \"odd\"\n",
    "even_odd(4)"
   ]
  },
  {
   "cell_type": "markdown",
   "id": "099f3cb7",
   "metadata": {},
   "source": [
    "#### generate the list of square numbers"
   ]
  },
  {
   "cell_type": "code",
   "execution_count": 85,
   "id": "94bb1dd6",
   "metadata": {},
   "outputs": [
    {
     "data": {
      "text/plain": [
       "[1, 9, 4, 36, 49, 81]"
      ]
     },
     "execution_count": 85,
     "metadata": {},
     "output_type": "execute_result"
    }
   ],
   "source": [
    "lst=(1,3,2,6,7,9)\n",
    "\n",
    "list(map(lambda i:i**2,lst))"
   ]
  },
  {
   "cell_type": "code",
   "execution_count": 88,
   "id": "3189e5d8",
   "metadata": {},
   "outputs": [
    {
     "data": {
      "text/plain": [
       "10870"
      ]
     },
     "execution_count": 88,
     "metadata": {},
     "output_type": "execute_result"
    }
   ],
   "source": [
    "sales=[\"$1000\",\"$580\",\"$9000\",\"$290\"]\n",
    "func= lambda s:int(s.strip(\"$\"))\n",
    "\n",
    "sum(map(func,sales))"
   ]
  },
  {
   "cell_type": "markdown",
   "id": "b0a3300e",
   "metadata": {},
   "source": [
    "### filter the even number"
   ]
  },
  {
   "cell_type": "code",
   "execution_count": 1,
   "id": "2ee0e8cc",
   "metadata": {},
   "outputs": [
    {
     "data": {
      "text/plain": [
       "[2, 6]"
      ]
     },
     "execution_count": 1,
     "metadata": {},
     "output_type": "execute_result"
    }
   ],
   "source": [
    "lst=(1,3,2,6,7,9)\n",
    "\n",
    "list(filter(lambda i:i%2==0,lst))"
   ]
  },
  {
   "cell_type": "code",
   "execution_count": 1,
   "id": "190acd88",
   "metadata": {},
   "outputs": [
    {
     "data": {
      "text/plain": [
       "3628800"
      ]
     },
     "execution_count": 1,
     "metadata": {},
     "output_type": "execute_result"
    }
   ],
   "source": [
    "from functools import reduce #intro to reduce\n",
    "#to print product of 10 numbers\n",
    "\n",
    "reduce(lambda x,y : x*y , range(1,11))  #reduce will give the single value\n"
   ]
  },
  {
   "cell_type": "code",
   "execution_count": null,
   "id": "440d7c8e",
   "metadata": {},
   "outputs": [],
   "source": [
    " "
   ]
  }
 ],
 "metadata": {
  "kernelspec": {
   "display_name": "Python 3 (ipykernel)",
   "language": "python",
   "name": "python3"
  },
  "language_info": {
   "codemirror_mode": {
    "name": "ipython",
    "version": 3
   },
   "file_extension": ".py",
   "mimetype": "text/x-python",
   "name": "python",
   "nbconvert_exporter": "python",
   "pygments_lexer": "ipython3",
   "version": "3.11.7"
  }
 },
 "nbformat": 4,
 "nbformat_minor": 5
}
