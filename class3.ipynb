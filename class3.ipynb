{
 "cells": [
  {
   "cell_type": "markdown",
   "id": "a7c0ad39",
   "metadata": {},
   "source": [
    "# Dictionary\n"
   ]
  },
  {
   "cell_type": "code",
   "execution_count": 1,
   "id": "3794ebbc",
   "metadata": {},
   "outputs": [
    {
     "data": {
      "text/plain": [
       "False"
      ]
     },
     "execution_count": 1,
     "metadata": {},
     "output_type": "execute_result"
    }
   ],
   "source": [
    "d={}\n",
    "bool(d)"
   ]
  },
  {
   "cell_type": "code",
   "execution_count": 2,
   "id": "6c78f27b",
   "metadata": {},
   "outputs": [
    {
     "data": {
      "text/plain": [
       "dict"
      ]
     },
     "execution_count": 2,
     "metadata": {},
     "output_type": "execute_result"
    }
   ],
   "source": [
    "type(d)"
   ]
  },
  {
   "cell_type": "code",
   "execution_count": 1,
   "id": "4060f220",
   "metadata": {},
   "outputs": [
    {
     "name": "stdout",
     "output_type": "stream",
     "text": [
      "{'india': 'INR', 'USA': 'dollar'}\n"
     ]
    }
   ],
   "source": [
    "countries={\"india\":\"INR\",\"USA\":\"dollar\"}\n",
    "print(countries)"
   ]
  },
  {
   "cell_type": "code",
   "execution_count": 2,
   "id": "5dac5720",
   "metadata": {},
   "outputs": [
    {
     "data": {
      "text/plain": [
       "dict_keys(['india', 'USA'])"
      ]
     },
     "execution_count": 2,
     "metadata": {},
     "output_type": "execute_result"
    }
   ],
   "source": [
    "countries.keys()"
   ]
  },
  {
   "cell_type": "code",
   "execution_count": 3,
   "id": "81deb506",
   "metadata": {},
   "outputs": [
    {
     "data": {
      "text/plain": [
       "'INR'"
      ]
     },
     "execution_count": 3,
     "metadata": {},
     "output_type": "execute_result"
    }
   ],
   "source": [
    "countries[\"india\"]"
   ]
  },
  {
   "cell_type": "code",
   "execution_count": 4,
   "id": "53ebc5c5",
   "metadata": {},
   "outputs": [
    {
     "data": {
      "text/plain": [
       "{'india': 'INR', 'USA': 'dollar', 'japan': 'yen'}"
      ]
     },
     "execution_count": 4,
     "metadata": {},
     "output_type": "execute_result"
    }
   ],
   "source": [
    "countries[\"japan\"]=\"yen\"\n",
    "countries"
   ]
  },
  {
   "cell_type": "code",
   "execution_count": 5,
   "id": "0adf0a6d",
   "metadata": {},
   "outputs": [
    {
     "name": "stdout",
     "output_type": "stream",
     "text": [
      "{'india': 'INR', 'USA': 'dollar', 'japan': 'yen', 'africa': 'ruba'}\n"
     ]
    }
   ],
   "source": [
    "countries['africa']='ruba'\n",
    "print(countries)"
   ]
  },
  {
   "cell_type": "code",
   "execution_count": 6,
   "id": "9e55835d",
   "metadata": {},
   "outputs": [
    {
     "data": {
      "text/plain": [
       "<function dict.update>"
      ]
     },
     "execution_count": 6,
     "metadata": {},
     "output_type": "execute_result"
    }
   ],
   "source": [
    "countries={\"bingo\":'kasu','chicago':'money','asia':'moonji'}\n",
    "countries.update\n"
   ]
  },
  {
   "cell_type": "code",
   "execution_count": 7,
   "id": "dd0406ce",
   "metadata": {},
   "outputs": [
    {
     "data": {
      "text/plain": [
       "{'bingo': 'kasu', 'chicago': 'money', 'asia': 'moonji'}"
      ]
     },
     "execution_count": 7,
     "metadata": {},
     "output_type": "execute_result"
    }
   ],
   "source": [
    "countries"
   ]
  },
  {
   "cell_type": "markdown",
   "id": "566eaea3",
   "metadata": {},
   "source": [
    "Add new dict"
   ]
  },
  {
   "cell_type": "code",
   "execution_count": 8,
   "id": "dde637bc",
   "metadata": {},
   "outputs": [
    {
     "name": "stdout",
     "output_type": "stream",
     "text": [
      "{'india': 'RS', 'USA': 'dollar', 'japan': 'yen', 'singapore': 'SGD', 'indonesia': 'IDR', 'Thailand': 'Bhat'}\n"
     ]
    }
   ],
   "source": [
    "new_countries={\"singapore\":\"SGD\",\"indonesia\":\"IDR\",\"Thailand\":\"Bhat\"}\n",
    "countries.update(new_countries)\n",
    "print(countries)"
   ]
  },
  {
   "cell_type": "markdown",
   "id": "261492d7",
   "metadata": {},
   "source": [
    "Remove dict"
   ]
  },
  {
   "cell_type": "code",
   "execution_count": 9,
   "id": "bb56205c",
   "metadata": {
    "scrolled": true
   },
   "outputs": [
    {
     "name": "stdout",
     "output_type": "stream",
     "text": [
      "{'india': 'RS', 'USA': 'dollar', 'japan': 'yen', 'singapore': 'SGD', 'indonesia': 'IDR'}\n"
     ]
    }
   ],
   "source": [
    "countries.popitem()\n",
    "print(countries)"
   ]
  },
  {
   "cell_type": "markdown",
   "id": "14ec523c",
   "metadata": {},
   "source": [
    "program in dictionary\n"
   ]
  },
  {
   "cell_type": "code",
   "execution_count": 11,
   "id": "53c7329c",
   "metadata": {},
   "outputs": [
    {
     "name": "stdout",
     "output_type": "stream",
     "text": [
      "Enter the country name -India\n",
      "India - INR\n"
     ]
    }
   ],
   "source": [
    "countries={\"India\":\"INR\",\"USA\":\"USD\",\"Japan\":\"yen\",\"Singapore\":\"SGD\",\"indonesia\":\"IDR\"}\n",
    "country=input(\"Enter the country name -\")\n",
    "if country in countries:                 #search n countres\n",
    "    print(country,\"-\",countries[country])\n",
    "else:\n",
    "    currency=input(\"enter currency\")\n",
    "    countries[country]=currency\n",
    "    print(countries)"
   ]
  },
  {
   "cell_type": "markdown",
   "id": "e032a8ac",
   "metadata": {},
   "source": [
    "Iterating on dict "
   ]
  },
  {
   "cell_type": "code",
   "execution_count": 12,
   "id": "4867e8f6",
   "metadata": {},
   "outputs": [
    {
     "data": {
      "text/plain": [
       "dict_keys(['India', 'USA', 'Japan', 'Singapore', 'indonesia'])"
      ]
     },
     "execution_count": 12,
     "metadata": {},
     "output_type": "execute_result"
    }
   ],
   "source": [
    "countries.keys()"
   ]
  },
  {
   "cell_type": "code",
   "execution_count": 13,
   "id": "e6b85b22",
   "metadata": {},
   "outputs": [
    {
     "data": {
      "text/plain": [
       "dict_values(['INR', 'USD', 'yen', 'SGD', 'IDR'])"
      ]
     },
     "execution_count": 13,
     "metadata": {},
     "output_type": "execute_result"
    }
   ],
   "source": [
    "countries.values()"
   ]
  },
  {
   "cell_type": "code",
   "execution_count": 14,
   "id": "208d15b2",
   "metadata": {},
   "outputs": [
    {
     "data": {
      "text/plain": [
       "dict_items([('India', 'INR'), ('USA', 'USD'), ('Japan', 'yen'), ('Singapore', 'SGD'), ('indonesia', 'IDR')])"
      ]
     },
     "execution_count": 14,
     "metadata": {},
     "output_type": "execute_result"
    }
   ],
   "source": [
    "countries.items()"
   ]
  },
  {
   "cell_type": "code",
   "execution_count": 15,
   "id": "73d27edf",
   "metadata": {},
   "outputs": [
    {
     "data": {
      "text/plain": [
       "['India', 'USA', 'Japan', 'Singapore', 'indonesia']"
      ]
     },
     "execution_count": 15,
     "metadata": {},
     "output_type": "execute_result"
    }
   ],
   "source": [
    "list(countries.keys())"
   ]
  },
  {
   "cell_type": "code",
   "execution_count": 16,
   "id": "2e40c3d2",
   "metadata": {},
   "outputs": [
    {
     "data": {
      "text/plain": [
       "[1, 2, 3, 4, 5, 6, 7, 8, 9, 10]"
      ]
     },
     "execution_count": 16,
     "metadata": {},
     "output_type": "execute_result"
    }
   ],
   "source": [
    "list(range(1,11))"
   ]
  },
  {
   "cell_type": "markdown",
   "id": "8e3ea058",
   "metadata": {},
   "source": [
    "# decision making\n",
    "\n"
   ]
  },
  {
   "cell_type": "markdown",
   "id": "d232cd78",
   "metadata": {},
   "source": [
    "# if statment"
   ]
  },
  {
   "cell_type": "code",
   "execution_count": 17,
   "id": "f213b034",
   "metadata": {},
   "outputs": [
    {
     "name": "stdout",
     "output_type": "stream",
     "text": [
      "enter the number -3\n",
      "positive\n"
     ]
    }
   ],
   "source": [
    "num=int(input(\"enter the number -\"))\n",
    "if num >0:\n",
    "    print(\"positive\")\n",
    "else:\n",
    "    print(\"negative\")"
   ]
  },
  {
   "cell_type": "code",
   "execution_count": null,
   "id": "6df3781f",
   "metadata": {},
   "outputs": [],
   "source": []
  },
  {
   "cell_type": "code",
   "execution_count": 18,
   "id": "37d03288",
   "metadata": {},
   "outputs": [
    {
     "name": "stdout",
     "output_type": "stream",
     "text": [
      "enter the number-3\n",
      "odd\n"
     ]
    }
   ],
   "source": [
    "num=int(input('enter the number-'))\n",
    "if num%2==0:\n",
    "    print('even')\n",
    "else:\n",
    "    print('odd')\n",
    "    "
   ]
  },
  {
   "cell_type": "code",
   "execution_count": 19,
   "id": "cafd6066",
   "metadata": {},
   "outputs": [
    {
     "data": {
      "text/plain": [
       "15"
      ]
     },
     "execution_count": 19,
     "metadata": {},
     "output_type": "execute_result"
    }
   ],
   "source": [
    "sub=lambda a,b:a-b\n",
    "sub(20,5)"
   ]
  },
  {
   "cell_type": "code",
   "execution_count": 20,
   "id": "7c7c9f9f",
   "metadata": {},
   "outputs": [],
   "source": [
    "new=lambda y :'odd' if y%2!=0 else 'even'"
   ]
  },
  {
   "cell_type": "code",
   "execution_count": 21,
   "id": "3560f424",
   "metadata": {},
   "outputs": [
    {
     "data": {
      "text/plain": [
       "'odd'"
      ]
     },
     "execution_count": 21,
     "metadata": {},
     "output_type": "execute_result"
    }
   ],
   "source": [
    "new(7)"
   ]
  },
  {
   "cell_type": "code",
   "execution_count": 22,
   "id": "8eb5a90c",
   "metadata": {},
   "outputs": [],
   "source": [
    "def aravind(num):\n",
    "    if num%2==0:\n",
    "        print('even')\n",
    "    else:\n",
    "        print('odd')\n",
    "    return"
   ]
  },
  {
   "cell_type": "code",
   "execution_count": 23,
   "id": "f1a34e65",
   "metadata": {},
   "outputs": [
    {
     "name": "stdout",
     "output_type": "stream",
     "text": [
      "even\n"
     ]
    }
   ],
   "source": [
    "aravind(6)"
   ]
  },
  {
   "cell_type": "code",
   "execution_count": 24,
   "id": "23e9ba81",
   "metadata": {},
   "outputs": [
    {
     "data": {
      "text/plain": [
       "15"
      ]
     },
     "execution_count": 24,
     "metadata": {},
     "output_type": "execute_result"
    }
   ],
   "source": [
    "sub(30,15)\n"
   ]
  },
  {
   "cell_type": "code",
   "execution_count": 25,
   "id": "8070162f",
   "metadata": {},
   "outputs": [
    {
     "name": "stdout",
     "output_type": "stream",
     "text": [
      "odd\n"
     ]
    }
   ],
   "source": [
    "aravind(9)"
   ]
  },
  {
   "cell_type": "raw",
   "id": "e77d15c0",
   "metadata": {},
   "source": []
  },
  {
   "cell_type": "code",
   "execution_count": 2,
   "id": "4564b12b",
   "metadata": {},
   "outputs": [
    {
     "name": "stdout",
     "output_type": "stream",
     "text": [
      "enter the number-50\n",
      "positive\n"
     ]
    }
   ],
   "source": [
    "df=int(input('enter the number-'))\n",
    "if df>40:\n",
    "    print('positive')\n",
    "else:\n",
    "    print('negative')"
   ]
  },
  {
   "cell_type": "code",
   "execution_count": 33,
   "id": "51698376",
   "metadata": {},
   "outputs": [
    {
     "name": "stdout",
     "output_type": "stream",
     "text": [
      "odd\n"
     ]
    }
   ],
   "source": [
    "aravind(11)"
   ]
  },
  {
   "cell_type": "raw",
   "id": "ad35da49",
   "metadata": {},
   "source": []
  },
  {
   "cell_type": "code",
   "execution_count": null,
   "id": "d5322594",
   "metadata": {},
   "outputs": [],
   "source": []
  },
  {
   "cell_type": "code",
   "execution_count": null,
   "id": "896a0d8e",
   "metadata": {},
   "outputs": [],
   "source": []
  },
  {
   "cell_type": "code",
   "execution_count": null,
   "id": "a5648666",
   "metadata": {},
   "outputs": [],
   "source": []
  },
  {
   "cell_type": "markdown",
   "id": "04c9fcdc",
   "metadata": {},
   "source": [
    "# nested if statement"
   ]
  },
  {
   "cell_type": "code",
   "execution_count": 4,
   "id": "9275a470",
   "metadata": {},
   "outputs": [
    {
     "name": "stdout",
     "output_type": "stream",
     "text": [
      "enter the number -47\n",
      "positive and not divisible by 5\n"
     ]
    }
   ],
   "source": [
    "num=int(input(\"enter the number -\"))\n",
    "if num>0:\n",
    "    if num%5==0:\n",
    "        print(\"positive and divisible by 5\")\n",
    "    else:\n",
    "        print(\"positive and not divisible by 5\")\n",
    "else:\n",
    "    print(\"negative\")\n",
    "    "
   ]
  },
  {
   "cell_type": "code",
   "execution_count": 9,
   "id": "19f8f283",
   "metadata": {},
   "outputs": [
    {
     "name": "stdout",
     "output_type": "stream",
     "text": [
      "enter the number - 50\n",
      "its divisible by 10\n"
     ]
    }
   ],
   "source": [
    "num=int(input('enter the number - '))\n",
    "if num>0:\n",
    "    if num%10==0:\n",
    "        print('its divisible by 10')\n",
    "    else:\n",
    "        print('not divisible by 10')\n",
    "else:\n",
    "    print('null')"
   ]
  },
  {
   "cell_type": "code",
   "execution_count": null,
   "id": "f43ee6d8",
   "metadata": {},
   "outputs": [],
   "source": []
  },
  {
   "cell_type": "markdown",
   "id": "13ce5302",
   "metadata": {},
   "source": [
    "# if...elif...else...statement"
   ]
  },
  {
   "cell_type": "markdown",
   "id": "b7e832ca",
   "metadata": {},
   "source": [
    "num=int(input(\"enter the number -\"))\n",
    "if num =10:\n",
    "    print(\"positive\")\n",
    "elif num<5:\n",
    "    print(\"negative\")\n",
    "else:\n",
    "    print(\"zero\")"
   ]
  },
  {
   "cell_type": "code",
   "execution_count": 25,
   "id": "19cb8591",
   "metadata": {
    "scrolled": true
   },
   "outputs": [
    {
     "name": "stdout",
     "output_type": "stream",
     "text": [
      "enter the number -4\n",
      "negative\n"
     ]
    }
   ],
   "source": [
    "num=int(input(\"enter the number -\"))\n",
    "if num ==10:\n",
    "    print(\"positive\")\n",
    "elif num<5:\n",
    "    print(\"negative\")\n",
    "else:\n",
    "    print(\"zero\")"
   ]
  },
  {
   "cell_type": "code",
   "execution_count": 32,
   "id": "a7191c5b",
   "metadata": {},
   "outputs": [
    {
     "name": "stdout",
     "output_type": "stream",
     "text": [
      "enter the number - 110\n",
      "its divisible by 10\n"
     ]
    }
   ],
   "source": [
    "num=int(input('enter the number - '))\n",
    "if num%4==0:\n",
    "    print('its divsible by 4')\n",
    "elif num%3==0:\n",
    "    print('its divisible by 3')\n",
    "elif num%10==0:\n",
    "    print('its divisible by 10')\n",
    "else:\n",
    "    print('invalid no')"
   ]
  },
  {
   "cell_type": "markdown",
   "id": "a8124e2c",
   "metadata": {},
   "source": [
    "# Examples"
   ]
  },
  {
   "cell_type": "code",
   "execution_count": 28,
   "id": "db25f323",
   "metadata": {},
   "outputs": [
    {
     "name": "stdout",
     "output_type": "stream",
     "text": [
      "enter the hours -3\n",
      "enter the rate -3\n",
      "gross pay- 9\n"
     ]
    }
   ],
   "source": [
    "X=int(input(\"enter the hours -\"))\n",
    "Y=int(input(\"enter the rate -\"))\n",
    "if X <= 40:\n",
    "    Z=X*Y\n",
    "    print(\"gross pay-\",Z)\n",
    "elif X>40:\n",
    "    A=(40*Y)+(1.5*Y)*(X-40)\n",
    "    print(\"gross pay -\",A)\n",
    "else:\n",
    "    print(\"not valid\")\n",
    "    "
   ]
  },
  {
   "cell_type": "code",
   "execution_count": 9,
   "id": "3bd589b5",
   "metadata": {},
   "outputs": [
    {
     "name": "stdout",
     "output_type": "stream",
     "text": [
      "Enter the weight-60\n",
      "Enter the height-5.2\n",
      "Under weight\n"
     ]
    }
   ],
   "source": [
    "wt=int(input(\"Enter the weight-\"))\n",
    "ht=float(input(\"Enter the height-\"))\n",
    "bmi=(wt/(ht**2))\n",
    "if bmi<18.5:\n",
    "    print(\"Under weight\")\n",
    "elif bmi<24.9: \n",
    "    print(\"Healthy weight\")\n",
    "elif bmi<29.9:\n",
    "    print(\"overweight\")\n",
    "elif bmi<30:\n",
    "    print(\"above obesity\")\n",
    "else:\n",
    "    print(\"not valid\")"
   ]
  },
  {
   "cell_type": "code",
   "execution_count": 30,
   "id": "f0cf1602",
   "metadata": {},
   "outputs": [
    {
     "name": "stdout",
     "output_type": "stream",
     "text": [
      "Enter the weight-3\n",
      "Enter the height-3\n",
      "Under weight\n"
     ]
    }
   ],
   "source": [
    "wt=int(input(\"Enter the weight-\"))\n",
    "ht=float(input(\"Enter the height-\"))\n",
    "bmi=(wt/(ht**2))\n",
    "if bmi>18.5:\n",
    "    if bmi>18.5 and bmi<24.9:\n",
    "        print(\"Healthy weight\")\n",
    "        if bmi>24.9 and bmi<29.9:\n",
    "            print(\"overweight\")\n",
    "            if bmi<30:\n",
    "                print(\"above obesity\")\n",
    "else:\n",
    "    print(\"Under weight\")"
   ]
  },
  {
   "cell_type": "code",
   "execution_count": 31,
   "id": "b9e747a8",
   "metadata": {},
   "outputs": [
    {
     "name": "stdout",
     "output_type": "stream",
     "text": [
      "Enter the subjects-3\n",
      "enter3\n",
      "enter3\n",
      "enter3\n"
     ]
    },
    {
     "data": {
      "text/plain": [
       "[3, 3, 3]"
      ]
     },
     "execution_count": 31,
     "metadata": {},
     "output_type": "execute_result"
    }
   ],
   "source": [
    "n = int(input(\"Enter the subjects-\"))\n",
    "mark = []\n",
    "for i in range (n):\n",
    "    x=int(input(\"enter\"))\n",
    "    mark.append(x)\n",
    "mark\n",
    "\n",
    "    \n",
    "\n",
    "    "
   ]
  },
  {
   "cell_type": "code",
   "execution_count": null,
   "id": "03f22f3c",
   "metadata": {},
   "outputs": [],
   "source": []
  },
  {
   "cell_type": "markdown",
   "id": "e709987f",
   "metadata": {},
   "source": [
    "# while loop"
   ]
  },
  {
   "cell_type": "code",
   "execution_count": 34,
   "id": "1fd5c6b2",
   "metadata": {},
   "outputs": [
    {
     "name": "stdout",
     "output_type": "stream",
     "text": [
      "enter the number-77\n",
      "enter the number-77\n",
      "enter the number-78\n",
      "enter the number-89\n",
      "enter the number-99\n",
      "enter the number-88\n",
      "enter the number-77\n",
      "enter the number-77\n",
      "enter the number--1\n"
     ]
    },
    {
     "data": {
      "text/plain": [
       "[77, 77, 78, 89, 99, 88, 77, 77]"
      ]
     },
     "execution_count": 34,
     "metadata": {},
     "output_type": "execute_result"
    }
   ],
   "source": [
    "marks = []\n",
    "while True:\n",
    "    mark =input(\"enter the number-\")\n",
    "    if mark== \"-1\":\n",
    "        break\n",
    "    elif mark.isdigit():\n",
    "        marks.append(int(mark))\n",
    "marks"
   ]
  },
  {
   "cell_type": "code",
   "execution_count": 35,
   "id": "d5226e74",
   "metadata": {},
   "outputs": [
    {
     "name": "stdout",
     "output_type": "stream",
     "text": [
      "1\n",
      "2\n",
      "4\n",
      "5\n",
      "7\n",
      "8\n",
      "10\n",
      "11\n",
      "13\n",
      "14\n",
      "16\n",
      "17\n",
      "19\n",
      "20\n",
      "22\n",
      "23\n",
      "25\n",
      "26\n",
      "28\n",
      "29\n"
     ]
    }
   ],
   "source": [
    "for i in range(1,30):\n",
    "    if i%3==0:     \n",
    "        continue #\n",
    "    print(i)"
   ]
  },
  {
   "cell_type": "markdown",
   "id": "4301f26f",
   "metadata": {},
   "source": [
    "# fibonacci seires"
   ]
  },
  {
   "cell_type": "code",
   "execution_count": 36,
   "id": "a9d67152",
   "metadata": {},
   "outputs": [
    {
     "name": "stdout",
     "output_type": "stream",
     "text": [
      "0\n",
      "1\n",
      "1\n",
      "2\n",
      "3\n",
      "5\n",
      "8\n",
      "13\n",
      "21\n",
      "34\n"
     ]
    }
   ],
   "source": [
    "counter=1\n",
    "first=0\n",
    "second=1\n",
    "while counter<=10:\n",
    "    print(first)\n",
    "    third=(first+second)\n",
    "    first=second\n",
    "    second=third\n",
    "    counter=counter+1"
   ]
  },
  {
   "cell_type": "markdown",
   "id": "b4e93ce8",
   "metadata": {},
   "source": [
    "# prime number"
   ]
  },
  {
   "cell_type": "code",
   "execution_count": 37,
   "id": "0b72e588",
   "metadata": {},
   "outputs": [
    {
     "name": "stdout",
     "output_type": "stream",
     "text": [
      "Enter the number-88\n",
      "not prime\n"
     ]
    }
   ],
   "source": [
    "num=int(input(\"Enter the number-\"))\n",
    "var=True \n",
    "for i in range(2,num):\n",
    "    if num%i==0:\n",
    "        var=False\n",
    "        break\n",
    "if var:\n",
    "    print(\"prime\")\n",
    "else:\n",
    "    print(\"not prime\")"
   ]
  },
  {
   "cell_type": "code",
   "execution_count": null,
   "id": "d0b3e2f0",
   "metadata": {},
   "outputs": [],
   "source": [
    "for i in range(1,11):\n",
    "    print(i)"
   ]
  },
  {
   "cell_type": "code",
   "execution_count": null,
   "id": "65f18639",
   "metadata": {},
   "outputs": [],
   "source": [
    "num= [i**2 for i in range(1,11)]\n",
    "print(num)"
   ]
  },
  {
   "cell_type": "code",
   "execution_count": null,
   "id": "2a28ef9c",
   "metadata": {},
   "outputs": [],
   "source": [
    "g=(\"a,b,c,d,e\")\n",
    "l=(6,7,8,9,10)\n",
    "dict(zip(g,l))"
   ]
  },
  {
   "cell_type": "code",
   "execution_count": null,
   "id": "20807a5b",
   "metadata": {},
   "outputs": [],
   "source": [
    "product=1\n",
    "for i in range(1,11):\n",
    "    product=5*i\n",
    "    print(i ,\"*\",\"5\",\"=\",product)"
   ]
  },
  {
   "cell_type": "code",
   "execution_count": null,
   "id": "a0ded0c4",
   "metadata": {},
   "outputs": [],
   "source": [
    "num=int(input())\n",
    "num"
   ]
  },
  {
   "cell_type": "code",
   "execution_count": null,
   "id": "9be77a62",
   "metadata": {},
   "outputs": [],
   "source": [
    "for i in range(1,6):\n",
    "    for j in range(1,3):\n",
    "        print(j,end=\"\")\n",
    "    print(i)"
   ]
  },
  {
   "cell_type": "code",
   "execution_count": null,
   "id": "eb7cb894",
   "metadata": {},
   "outputs": [],
   "source": []
  },
  {
   "cell_type": "code",
   "execution_count": null,
   "id": "2688cab0",
   "metadata": {},
   "outputs": [],
   "source": []
  },
  {
   "cell_type": "code",
   "execution_count": null,
   "id": "f965c48d",
   "metadata": {},
   "outputs": [],
   "source": []
  }
 ],
 "metadata": {
  "kernelspec": {
   "display_name": "Python 3 (ipykernel)",
   "language": "python",
   "name": "python3"
  },
  "language_info": {
   "codemirror_mode": {
    "name": "ipython",
    "version": 3
   },
   "file_extension": ".py",
   "mimetype": "text/x-python",
   "name": "python",
   "nbconvert_exporter": "python",
   "pygments_lexer": "ipython3",
   "version": "3.11.7"
  }
 },
 "nbformat": 4,
 "nbformat_minor": 5
}
