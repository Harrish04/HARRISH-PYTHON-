{
 "cells": [
  {
   "cell_type": "code",
   "execution_count": 3,
   "id": "a4648d07",
   "metadata": {},
   "outputs": [
    {
     "name": "stdout",
     "output_type": "stream",
     "text": [
      "nk\n",
      "hello buddy.. let's go\n",
      "hiijjjjnhhkkjjnnnj \n"
     ]
    },
    {
     "data": {
      "text/plain": [
       "'o'"
      ]
     },
     "execution_count": 3,
     "metadata": {},
     "output_type": "execute_result"
    }
   ],
   "source": [
    "#strings operations\n",
    "\n",
    "x=\"hello world\" \n",
    "y='nk'\n",
    "v=\"\"\"hello buddy.. let's go\n",
    "hiijjjjnhhkkjjnnnj \"\"\"\n",
    "print(y)\n",
    "print(v)\n",
    "x[4]"
   ]
  },
  {
   "cell_type": "code",
   "execution_count": 8,
   "id": "35018d58",
   "metadata": {},
   "outputs": [
    {
     "data": {
      "text/plain": [
       "'hel'"
      ]
     },
     "execution_count": 8,
     "metadata": {},
     "output_type": "execute_result"
    }
   ],
   "source": [
    "x[0:3]"
   ]
  },
  {
   "cell_type": "code",
   "execution_count": 2,
   "id": "d858459d",
   "metadata": {},
   "outputs": [
    {
     "data": {
      "text/plain": [
       "'Wl'"
      ]
     },
     "execution_count": 2,
     "metadata": {},
     "output_type": "execute_result"
    }
   ],
   "source": [
    "greeting = \"Wellcome Buddy\"\n",
    "greeting[0: 4 :2] "
   ]
  },
  {
   "cell_type": "code",
   "execution_count": 12,
   "id": "164ebac5",
   "metadata": {},
   "outputs": [
    {
     "data": {
      "text/plain": [
       "'l'"
      ]
     },
     "execution_count": 12,
     "metadata": {},
     "output_type": "execute_result"
    }
   ],
   "source": [
    "greeting = \"Wellcome Buddy\"\n",
    "greeting[2: 4:3] "
   ]
  },
  {
   "cell_type": "code",
   "execution_count": 9,
   "id": "0a5a3491",
   "metadata": {},
   "outputs": [
    {
     "data": {
      "text/plain": [
       "'r'"
      ]
     },
     "execution_count": 9,
     "metadata": {},
     "output_type": "execute_result"
    }
   ],
   "source": [
    "n = \"Coral\"\n",
    "n[2:3:]"
   ]
  },
  {
   "cell_type": "code",
   "execution_count": null,
   "id": "bb7a8140",
   "metadata": {},
   "outputs": [],
   "source": []
  },
  {
   "cell_type": "code",
   "execution_count": 14,
   "id": "2ea27d0c",
   "metadata": {},
   "outputs": [
    {
     "data": {
      "text/plain": [
       "'es'"
      ]
     },
     "execution_count": 14,
     "metadata": {},
     "output_type": "execute_result"
    }
   ],
   "source": [
    "str =\"Geeks for Geeks !\"\n",
    "str[1:5:3]# 1--> e ,2,3,4x"
   ]
  },
  {
   "cell_type": "code",
   "execution_count": 3,
   "id": "ec70f487",
   "metadata": {},
   "outputs": [
    {
     "data": {
      "text/plain": [
       "'Troll Geek'"
      ]
     },
     "execution_count": 3,
     "metadata": {},
     "output_type": "execute_result"
    }
   ],
   "source": [
    "text = \"Troll Geek\"\n",
    "text[0:10:1]"
   ]
  },
  {
   "cell_type": "code",
   "execution_count": null,
   "id": "932e260b",
   "metadata": {},
   "outputs": [],
   "source": []
  },
  {
   "cell_type": "code",
   "execution_count": null,
   "id": "c87caf6a",
   "metadata": {},
   "outputs": [],
   "source": []
  },
  {
   "cell_type": "code",
   "execution_count": null,
   "id": "5afde47c",
   "metadata": {},
   "outputs": [],
   "source": []
  },
  {
   "cell_type": "code",
   "execution_count": 9,
   "id": "6ea9816f",
   "metadata": {},
   "outputs": [
    {
     "data": {
      "text/plain": [
       "'orld'"
      ]
     },
     "execution_count": 9,
     "metadata": {},
     "output_type": "execute_result"
    }
   ],
   "source": [
    "x[-4:]"
   ]
  },
  {
   "cell_type": "code",
   "execution_count": 11,
   "id": "416bb635",
   "metadata": {},
   "outputs": [
    {
     "data": {
      "text/plain": [
       "'yBo'"
      ]
     },
     "execution_count": 11,
     "metadata": {},
     "output_type": "execute_result"
    }
   ],
   "source": [
    "greeting = \"Wellcome Buddy\"\n",
    "greeting[-1: 3 :-4] # start:stop:jump\n"
   ]
  },
  {
   "cell_type": "code",
   "execution_count": 7,
   "id": "606b6e32",
   "metadata": {},
   "outputs": [
    {
     "data": {
      "text/plain": [
       "'Wellcome B'"
      ]
     },
     "execution_count": 7,
     "metadata": {},
     "output_type": "execute_result"
    }
   ],
   "source": [
    "greeting[:-4]"
   ]
  },
  {
   "cell_type": "code",
   "execution_count": 10,
   "id": "acea02c0",
   "metadata": {},
   "outputs": [
    {
     "data": {
      "text/plain": [
       "'dlrow olleh'"
      ]
     },
     "execution_count": 10,
     "metadata": {},
     "output_type": "execute_result"
    }
   ],
   "source": [
    "x[::-1]"
   ]
  },
  {
   "cell_type": "code",
   "execution_count": 4,
   "id": "dab6dee3",
   "metadata": {},
   "outputs": [
    {
     "data": {
      "text/plain": [
       "'malayalam'"
      ]
     },
     "execution_count": 4,
     "metadata": {},
     "output_type": "execute_result"
    }
   ],
   "source": [
    "fv_l= \"malayalam\"\n",
    "\n",
    "fv_l[::-1]"
   ]
  },
  {
   "cell_type": "code",
   "execution_count": 22,
   "id": "80b2bb0a",
   "metadata": {},
   "outputs": [
    {
     "data": {
      "text/plain": [
       "'malayalam'"
      ]
     },
     "execution_count": 22,
     "metadata": {},
     "output_type": "execute_result"
    }
   ],
   "source": [
    "# fv_l[::-2]\n",
    "# fv_l[1:8:2]\n",
    "fv_l[-2:-9:-2]\n",
    "fv_l[::-1]"
   ]
  },
  {
   "cell_type": "code",
   "execution_count": null,
   "id": "436cbf0d",
   "metadata": {},
   "outputs": [],
   "source": [
    "# fv_l[]"
   ]
  },
  {
   "cell_type": "markdown",
   "id": "f7473051",
   "metadata": {},
   "source": [
    "WAP palindrome or not palindrome"
   ]
  },
  {
   "cell_type": "code",
   "execution_count": 1,
   "id": "88f6d071",
   "metadata": {},
   "outputs": [
    {
     "name": "stdout",
     "output_type": "stream",
     "text": [
      "enter the word-malayalam\n",
      "Palindrome\n"
     ]
    }
   ],
   "source": [
    "a=input(\"enter the word-\")\n",
    "if a==a[::-1]:\n",
    "    print(\"Palindrome\")\n",
    "else:\n",
    "    print(\"Not palindrome\")\n",
    "\n"
   ]
  },
  {
   "cell_type": "code",
   "execution_count": 12,
   "id": "b13a3b23",
   "metadata": {},
   "outputs": [
    {
     "data": {
      "text/plain": [
       "'xyz'"
      ]
     },
     "execution_count": 12,
     "metadata": {},
     "output_type": "execute_result"
    }
   ],
   "source": [
    "a=\"xyz\"\n",
    "a[:]"
   ]
  },
  {
   "cell_type": "code",
   "execution_count": 15,
   "id": "def0ecaa",
   "metadata": {},
   "outputs": [
    {
     "data": {
      "text/plain": [
       "'abcDEF'"
      ]
     },
     "execution_count": 15,
     "metadata": {},
     "output_type": "execute_result"
    }
   ],
   "source": [
    "\"abc\"+\"DEF\"#concat()+(str,-->numeric)"
   ]
  },
  {
   "cell_type": "code",
   "execution_count": 16,
   "id": "3121b69f",
   "metadata": {},
   "outputs": [
    {
     "data": {
      "text/plain": [
       "'abcabcabc'"
      ]
     },
     "execution_count": 16,
     "metadata": {},
     "output_type": "execute_result"
    }
   ],
   "source": [
    "\"abc\"*3\n"
   ]
  },
  {
   "cell_type": "code",
   "execution_count": 17,
   "id": "6b7e30cd",
   "metadata": {},
   "outputs": [
    {
     "data": {
      "text/plain": [
       "77"
      ]
     },
     "execution_count": 17,
     "metadata": {},
     "output_type": "execute_result"
    }
   ],
   "source": [
    "ord(\"M\")"
   ]
  },
  {
   "cell_type": "code",
   "execution_count": 3,
   "id": "05cfd11f",
   "metadata": {},
   "outputs": [
    {
     "data": {
      "text/plain": [
       "'A'"
      ]
     },
     "execution_count": 3,
     "metadata": {},
     "output_type": "execute_result"
    }
   ],
   "source": [
    "chr(65)#01"
   ]
  },
  {
   "cell_type": "code",
   "execution_count": 3,
   "id": "66c114b8",
   "metadata": {},
   "outputs": [
    {
     "data": {
      "text/plain": [
       "11"
      ]
     },
     "execution_count": 3,
     "metadata": {},
     "output_type": "execute_result"
    }
   ],
   "source": [
    "string=(\"Mississippi\")\n",
    "len(string)"
   ]
  },
  {
   "cell_type": "code",
   "execution_count": 4,
   "id": "4a14509c",
   "metadata": {},
   "outputs": [
    {
     "data": {
      "text/plain": [
       "'s'"
      ]
     },
     "execution_count": 4,
     "metadata": {},
     "output_type": "execute_result"
    }
   ],
   "source": [
    "max(string) #the calc is based on the ascii table"
   ]
  },
  {
   "cell_type": "code",
   "execution_count": 6,
   "id": "fa7fabba",
   "metadata": {},
   "outputs": [
    {
     "data": {
      "text/plain": [
       "'M'"
      ]
     },
     "execution_count": 6,
     "metadata": {},
     "output_type": "execute_result"
    }
   ],
   "source": [
    "min(string)"
   ]
  },
  {
   "cell_type": "code",
   "execution_count": 7,
   "id": "4110083e",
   "metadata": {},
   "outputs": [
    {
     "data": {
      "text/plain": [
       "['M', 'i', 'i', 'i', 'i', 'p', 'p', 's', 's', 's', 's']"
      ]
     },
     "execution_count": 7,
     "metadata": {},
     "output_type": "execute_result"
    }
   ],
   "source": [
    "sorted(string)"
   ]
  },
  {
   "cell_type": "code",
   "execution_count": 1,
   "id": "0e975386",
   "metadata": {},
   "outputs": [
    {
     "data": {
      "text/plain": [
       "1"
      ]
     },
     "execution_count": 1,
     "metadata": {},
     "output_type": "execute_result"
    }
   ],
   "source": [
    "string=(\"Mississippi\")\n",
    "fo=string.index(\"i\")\n",
    "string.index(\"i\")"
   ]
  },
  {
   "cell_type": "code",
   "execution_count": 7,
   "id": "492ce029",
   "metadata": {},
   "outputs": [
    {
     "data": {
      "text/plain": [
       "4"
      ]
     },
     "execution_count": 7,
     "metadata": {},
     "output_type": "execute_result"
    }
   ],
   "source": [
    "string.count(\"s\")"
   ]
  },
  {
   "cell_type": "code",
   "execution_count": 8,
   "id": "a131e543",
   "metadata": {},
   "outputs": [
    {
     "data": {
      "text/plain": [
       "'MISSISSIPPI'"
      ]
     },
     "execution_count": 8,
     "metadata": {},
     "output_type": "execute_result"
    }
   ],
   "source": [
    "string.upper()"
   ]
  },
  {
   "cell_type": "code",
   "execution_count": 9,
   "id": "b9ad21a5",
   "metadata": {},
   "outputs": [
    {
     "data": {
      "text/plain": [
       "'mississippi'"
      ]
     },
     "execution_count": 9,
     "metadata": {},
     "output_type": "execute_result"
    }
   ],
   "source": [
    "string.lower()"
   ]
  },
  {
   "cell_type": "code",
   "execution_count": 10,
   "id": "fb1c290f",
   "metadata": {},
   "outputs": [
    {
     "data": {
      "text/plain": [
       "'HELLO WORLD'"
      ]
     },
     "execution_count": 10,
     "metadata": {},
     "output_type": "execute_result"
    }
   ],
   "source": [
    "new=\"hello world\"\n",
    "new.upper()"
   ]
  },
  {
   "cell_type": "code",
   "execution_count": 36,
   "id": "ab841011",
   "metadata": {},
   "outputs": [
    {
     "data": {
      "text/plain": [
       "'hello world'"
      ]
     },
     "execution_count": 36,
     "metadata": {},
     "output_type": "execute_result"
    }
   ],
   "source": [
    "new.lower()"
   ]
  },
  {
   "cell_type": "code",
   "execution_count": 37,
   "id": "d8f91097",
   "metadata": {},
   "outputs": [
    {
     "data": {
      "text/plain": [
       "False"
      ]
     },
     "execution_count": 37,
     "metadata": {},
     "output_type": "execute_result"
    }
   ],
   "source": [
    "new.isupper()"
   ]
  },
  {
   "cell_type": "code",
   "execution_count": 11,
   "id": "f114c4cf",
   "metadata": {},
   "outputs": [
    {
     "data": {
      "text/plain": [
       "True"
      ]
     },
     "execution_count": 11,
     "metadata": {},
     "output_type": "execute_result"
    }
   ],
   "source": [
    "new.islower()"
   ]
  },
  {
   "cell_type": "code",
   "execution_count": 38,
   "id": "0e3517af",
   "metadata": {},
   "outputs": [
    {
     "data": {
      "text/plain": [
       "['h', 've ', ' good d', 'y']"
      ]
     },
     "execution_count": 38,
     "metadata": {},
     "output_type": "execute_result"
    }
   ],
   "source": [
    "string=\"have a good day\"\n",
    "string.split(\"a\")\n"
   ]
  },
  {
   "cell_type": "code",
   "execution_count": 40,
   "id": "a2510dfc",
   "metadata": {},
   "outputs": [
    {
     "data": {
      "text/plain": [
       "'h?ve ? good d?y'"
      ]
     },
     "execution_count": 40,
     "metadata": {},
     "output_type": "execute_result"
    }
   ],
   "source": [
    "string.replace(\"a\",\"?\")"
   ]
  },
  {
   "cell_type": "code",
   "execution_count": 10,
   "id": "93f06843",
   "metadata": {},
   "outputs": [
    {
     "data": {
      "text/plain": [
       "'156'"
      ]
     },
     "execution_count": 10,
     "metadata": {},
     "output_type": "execute_result"
    }
   ],
   "source": [
    "\"  156\".strip()"
   ]
  },
  {
   "cell_type": "code",
   "execution_count": 45,
   "id": "c4dc93b8",
   "metadata": {},
   "outputs": [
    {
     "data": {
      "text/plain": [
       "'5161'"
      ]
     },
     "execution_count": 45,
     "metadata": {},
     "output_type": "execute_result"
    }
   ],
   "source": [
    "\"51616\".strip(\"6\")"
   ]
  },
  {
   "cell_type": "code",
   "execution_count": 49,
   "id": "66c41697",
   "metadata": {},
   "outputs": [
    {
     "data": {
      "text/plain": [
       "'ssalc nohtyP ni ma I'"
      ]
     },
     "execution_count": 49,
     "metadata": {},
     "output_type": "execute_result"
    }
   ],
   "source": [
    "string=\"I am in Python class\"\n",
    "string[::-1]"
   ]
  },
  {
   "cell_type": "code",
   "execution_count": 52,
   "id": "41f6d6c0",
   "metadata": {},
   "outputs": [
    {
     "data": {
      "text/plain": [
       "'I Am In Python Class'"
      ]
     },
     "execution_count": 52,
     "metadata": {},
     "output_type": "execute_result"
    }
   ],
   "source": [
    "string.title()"
   ]
  },
  {
   "cell_type": "markdown",
   "id": "a17557a3",
   "metadata": {},
   "source": [
    "important (find the upper and lower cases in the sentence)\n",
    "\n"
   ]
  },
  {
   "cell_type": "code",
   "execution_count": 14,
   "id": "6d080a75",
   "metadata": {},
   "outputs": [
    {
     "name": "stdout",
     "output_type": "stream",
     "text": [
      "3 13\n"
     ]
    }
   ],
   "source": [
    "string=\"The quick Brown Fox\" #diff program*\n",
    "u_count = l_count =0 \n",
    "for i in string:\n",
    "    if i.isupper():\n",
    "        u_count=u_count+1 #index\n",
    "    if i.islower():\n",
    "        l_count=l_count+1\n",
    "print(u_count,l_count)"
   ]
  },
  {
   "cell_type": "code",
   "execution_count": 6,
   "id": "0584e761",
   "metadata": {},
   "outputs": [
    {
     "name": "stdout",
     "output_type": "stream",
     "text": [
      "Steve--Bill--Ravi--Jonathan\n",
      "H--e--l--l--o\n",
      "1--2--3--4\n",
      "C#--Python--Java--C++\n"
     ]
    }
   ],
   "source": [
    "sep = '--'\n",
    "names = ['Steve', 'Bill', 'Ravi', 'Jonathan'] # list\n",
    "print(sep.join(names))\n",
    "\n",
    "mystr = 'Hello' # string\n",
    "print(sep.join(mystr))\n",
    "\n",
    "nums = ('1', '2', '3', '4') # tuple\n",
    "print(sep.join(nums))\n",
    "\n",
    "langs = {'Python', 'C#', 'Java', 'C++'} # set\n",
    "print(sep.join(langs))"
   ]
  },
  {
   "cell_type": "code",
   "execution_count": 7,
   "id": "f3e2684b",
   "metadata": {},
   "outputs": [
    {
     "data": {
      "text/plain": [
       "['Steve', 'Bill', 'Ravi', 'Jonathan']"
      ]
     },
     "execution_count": 7,
     "metadata": {},
     "output_type": "execute_result"
    }
   ],
   "source": [
    "names"
   ]
  },
  {
   "cell_type": "code",
   "execution_count": 9,
   "id": "6ac3c2de",
   "metadata": {},
   "outputs": [
    {
     "name": "stdout",
     "output_type": "stream",
     "text": [
      "Index of H:  9\n"
     ]
    }
   ],
   "source": [
    "greet = 'Hello World!'\n",
    "print('Index of H: ', greet.rfind('l'))\n"
   ]
  },
  {
   "cell_type": "code",
   "execution_count": 2,
   "id": "731a121c",
   "metadata": {},
   "outputs": [],
   "source": [
    "teamNames=\"RCB,SRS,MI\""
   ]
  },
  {
   "cell_type": "code",
   "execution_count": 5,
   "id": "65b2f1e1",
   "metadata": {},
   "outputs": [
    {
     "data": {
      "text/plain": [
       "'IM,SRS,BCR'"
      ]
     },
     "execution_count": 5,
     "metadata": {},
     "output_type": "execute_result"
    }
   ],
   "source": [
    "teamNames[::-1]"
   ]
  },
  {
   "cell_type": "code",
   "execution_count": null,
   "id": "b56ee1c9",
   "metadata": {},
   "outputs": [],
   "source": []
  },
  {
   "cell_type": "code",
   "execution_count": null,
   "id": "bed24e0e",
   "metadata": {},
   "outputs": [],
   "source": []
  },
  {
   "cell_type": "code",
   "execution_count": null,
   "id": "aaaeb0b2",
   "metadata": {},
   "outputs": [],
   "source": []
  },
  {
   "cell_type": "code",
   "execution_count": null,
   "id": "a8f1da3e",
   "metadata": {},
   "outputs": [],
   "source": []
  },
  {
   "cell_type": "code",
   "execution_count": null,
   "id": "be520d52",
   "metadata": {},
   "outputs": [],
   "source": []
  },
  {
   "cell_type": "code",
   "execution_count": null,
   "id": "55e388fc",
   "metadata": {},
   "outputs": [],
   "source": []
  },
  {
   "cell_type": "code",
   "execution_count": null,
   "id": "cdb313e8",
   "metadata": {},
   "outputs": [],
   "source": []
  },
  {
   "cell_type": "code",
   "execution_count": null,
   "id": "6f66ccfb",
   "metadata": {},
   "outputs": [],
   "source": []
  },
  {
   "cell_type": "code",
   "execution_count": 59,
   "id": "52f6c80c",
   "metadata": {},
   "outputs": [
    {
     "data": {
      "text/plain": [
       "'M'"
      ]
     },
     "execution_count": 59,
     "metadata": {},
     "output_type": "execute_result"
    }
   ],
   "source": [
    "chr(77)"
   ]
  },
  {
   "cell_type": "code",
   "execution_count": null,
   "id": "e995bd9b",
   "metadata": {},
   "outputs": [],
   "source": []
  },
  {
   "cell_type": "code",
   "execution_count": 2,
   "id": "c0426a2d",
   "metadata": {},
   "outputs": [
    {
     "data": {
      "text/plain": [
       "77"
      ]
     },
     "execution_count": 2,
     "metadata": {},
     "output_type": "execute_result"
    }
   ],
   "source": [
    "ord('M')"
   ]
  },
  {
   "cell_type": "code",
   "execution_count": 1,
   "id": "cbf9aad1",
   "metadata": {},
   "outputs": [
    {
     "data": {
      "text/plain": [
       "'i'"
      ]
     },
     "execution_count": 1,
     "metadata": {},
     "output_type": "execute_result"
    }
   ],
   "source": [
    "chr(105)"
   ]
  },
  {
   "cell_type": "markdown",
   "id": "8749f933",
   "metadata": {},
   "source": [
    "# Tuples"
   ]
  },
  {
   "cell_type": "code",
   "execution_count": 1,
   "id": "94867a30",
   "metadata": {},
   "outputs": [
    {
     "name": "stdout",
     "output_type": "stream",
     "text": [
      "(1, 2, 3, 4, 5, 5)\n"
     ]
    }
   ],
   "source": [
    "tup=(1,2,3,4,5,5)\n",
    "print(tup)"
   ]
  },
  {
   "cell_type": "code",
   "execution_count": 2,
   "id": "45f18ae8",
   "metadata": {},
   "outputs": [
    {
     "name": "stdout",
     "output_type": "stream",
     "text": [
      "[1, 2, 3, 2]\n"
     ]
    }
   ],
   "source": [
    "list1 = [1,2,3,2]\n",
    "print(list1)"
   ]
  },
  {
   "cell_type": "code",
   "execution_count": 3,
   "id": "3d042be6",
   "metadata": {},
   "outputs": [
    {
     "name": "stdout",
     "output_type": "stream",
     "text": [
      "{'hero', 'bmw', 'volove'}\n"
     ]
    }
   ],
   "source": [
    "cars={'bmw','volove','hero','bmw'}\n",
    "print(cars)"
   ]
  },
  {
   "cell_type": "code",
   "execution_count": 6,
   "id": "26c482a9",
   "metadata": {},
   "outputs": [
    {
     "data": {
      "text/plain": [
       "3"
      ]
     },
     "execution_count": 6,
     "metadata": {},
     "output_type": "execute_result"
    }
   ],
   "source": [
    "tup[2]"
   ]
  },
  {
   "cell_type": "code",
   "execution_count": 7,
   "id": "b4e0d388",
   "metadata": {},
   "outputs": [
    {
     "data": {
      "text/plain": [
       "(1, 2, 3, 4, 5)"
      ]
     },
     "execution_count": 7,
     "metadata": {},
     "output_type": "execute_result"
    }
   ],
   "source": [
    "tup"
   ]
  },
  {
   "cell_type": "code",
   "execution_count": 78,
   "id": "98fd7e0e",
   "metadata": {},
   "outputs": [
    {
     "data": {
      "text/plain": [
       "(5, 4, 3, 2, 1)"
      ]
     },
     "execution_count": 78,
     "metadata": {},
     "output_type": "execute_result"
    }
   ],
   "source": [
    "tup[::-1]"
   ]
  },
  {
   "cell_type": "code",
   "execution_count": 87,
   "id": "97cee182",
   "metadata": {},
   "outputs": [
    {
     "data": {
      "text/plain": [
       "'bike'"
      ]
     },
     "execution_count": 87,
     "metadata": {},
     "output_type": "execute_result"
    }
   ],
   "source": [
    "tup=(\"car\", \"bike\", \"cycle\")\n",
    "tup[1]"
   ]
  },
  {
   "cell_type": "code",
   "execution_count": 90,
   "id": "46960617",
   "metadata": {},
   "outputs": [
    {
     "data": {
      "text/plain": [
       "0"
      ]
     },
     "execution_count": 90,
     "metadata": {},
     "output_type": "execute_result"
    }
   ],
   "source": [
    "tup.index(\"car\")"
   ]
  },
  {
   "cell_type": "code",
   "execution_count": 94,
   "id": "ebf6f71a",
   "metadata": {},
   "outputs": [
    {
     "name": "stdout",
     "output_type": "stream",
     "text": [
      "720\n"
     ]
    }
   ],
   "source": [
    "tup=(1,2,3,4,5,6)\n",
    "product=1\n",
    "for i in tup:\n",
    "    product=product*i\n",
    "print(product)"
   ]
  },
  {
   "cell_type": "code",
   "execution_count": 20,
   "id": "27babe00",
   "metadata": {},
   "outputs": [
    {
     "name": "stdout",
     "output_type": "stream",
     "text": [
      "1440\n"
     ]
    }
   ],
   "source": [
    "tup=(1,2,3,4,5,6)\n",
    "product=2\n",
    "for i in tup:b\n",
    "    product=product*i\n",
    "print(product)"
   ]
  },
  {
   "cell_type": "code",
   "execution_count": 1,
   "id": "b19a4083",
   "metadata": {},
   "outputs": [
    {
     "name": "stdout",
     "output_type": "stream",
     "text": [
      "3600\n"
     ]
    }
   ],
   "source": [
    "tup=(1,2,3,4,5,6)\n",
    "product=5\n",
    "for i in tup:\n",
    "    product=product*i\n",
    "print(product)\n",
    "    \n"
   ]
  },
  {
   "cell_type": "code",
   "execution_count": 98,
   "id": "82e575eb",
   "metadata": {},
   "outputs": [
    {
     "data": {
      "text/plain": [
       "int"
      ]
     },
     "execution_count": 98,
     "metadata": {},
     "output_type": "execute_result"
    }
   ],
   "source": [
    "tup=(1)   #here bracket acts as parentheses\n",
    "type(tup) #if we put , it becomes a tuples"
   ]
  },
  {
   "cell_type": "code",
   "execution_count": 99,
   "id": "4c18aa33",
   "metadata": {},
   "outputs": [
    {
     "data": {
      "text/plain": [
       "4"
      ]
     },
     "execution_count": 99,
     "metadata": {},
     "output_type": "execute_result"
    }
   ],
   "source": [
    "tup=((1,2,3),4,5,6)\n",
    "len(tup)"
   ]
  },
  {
   "cell_type": "code",
   "execution_count": 100,
   "id": "fb01ba69",
   "metadata": {},
   "outputs": [
    {
     "data": {
      "text/plain": [
       "(1, 2, 3)"
      ]
     },
     "execution_count": 100,
     "metadata": {},
     "output_type": "execute_result"
    }
   ],
   "source": [
    "tup[0]"
   ]
  },
  {
   "cell_type": "code",
   "execution_count": 101,
   "id": "685be40c",
   "metadata": {},
   "outputs": [
    {
     "data": {
      "text/plain": [
       "2"
      ]
     },
     "execution_count": 101,
     "metadata": {},
     "output_type": "execute_result"
    }
   ],
   "source": [
    "tup[0][1]"
   ]
  },
  {
   "cell_type": "markdown",
   "id": "8a36f97a",
   "metadata": {},
   "source": [
    "# List "
   ]
  },
  {
   "cell_type": "code",
   "execution_count": 13,
   "id": "92f40361",
   "metadata": {},
   "outputs": [
    {
     "data": {
      "text/plain": [
       "dict"
      ]
     },
     "execution_count": 13,
     "metadata": {},
     "output_type": "execute_result"
    }
   ],
   "source": [
    "list=[]\n",
    "bool(list)\n",
    "food_st=[True]\n",
    "bool(food_st)\n",
    "type(food_st)\n",
    "Id=(120,123,234,34)\n",
    "mrk={23,45,67,678}\n",
    "df={\"n\":\"vji\",\"id\":389}\n",
    "type(df)"
   ]
  },
  {
   "cell_type": "code",
   "execution_count": 15,
   "id": "899017d3",
   "metadata": {},
   "outputs": [
    {
     "name": "stdout",
     "output_type": "stream",
     "text": [
      "['ross', 'pheobe', 'joey', 'raechel']\n"
     ]
    }
   ],
   "source": [
    "friends=[\"ross\",\"pheobe\",\"joey\"]\n",
    "friends.append(\"raechel\")\n",
    "print(friends)"
   ]
  },
  {
   "cell_type": "code",
   "execution_count": 16,
   "id": "ddfa7333",
   "metadata": {},
   "outputs": [],
   "source": [
    "friends.insert(2,\"chandler\")\n",
    "friends.insert(5,\"vji\")"
   ]
  },
  {
   "cell_type": "code",
   "execution_count": 17,
   "id": "28531770",
   "metadata": {},
   "outputs": [
    {
     "name": "stdout",
     "output_type": "stream",
     "text": [
      "['ross', 'pheobe', 'chandler', 'joey', 'raechel', 'vji']\n"
     ]
    }
   ],
   "source": [
    "print(friends)"
   ]
  },
  {
   "cell_type": "code",
   "execution_count": 25,
   "id": "a3418239",
   "metadata": {},
   "outputs": [],
   "source": [
    "new_friends=[\"john\",\"george\"]\n",
    "friends.extend(new_friends)"
   ]
  },
  {
   "cell_type": "code",
   "execution_count": 26,
   "id": "1611607d",
   "metadata": {},
   "outputs": [
    {
     "name": "stdout",
     "output_type": "stream",
     "text": [
      "['ross', 'pheobe', 'chandler', 'joey', 'raechel', 'john', 'george']\n"
     ]
    }
   ],
   "source": [
    "print(friends)"
   ]
  },
  {
   "cell_type": "code",
   "execution_count": 27,
   "id": "f1ed5739",
   "metadata": {},
   "outputs": [
    {
     "name": "stdout",
     "output_type": "stream",
     "text": [
      "['ross', 'pheobe', 'chandler', 'joey', 'raechel', 'john']\n"
     ]
    }
   ],
   "source": [
    "friends.pop()\n",
    "print(friends)"
   ]
  },
  {
   "cell_type": "code",
   "execution_count": 29,
   "id": "746bd2a6",
   "metadata": {},
   "outputs": [
    {
     "data": {
      "text/plain": [
       "['ross', 'pheobe', 'chandler', 'raechel']"
      ]
     },
     "execution_count": 29,
     "metadata": {},
     "output_type": "execute_result"
    }
   ],
   "source": [
    "friends.pop(3)\n",
    "friends"
   ]
  },
  {
   "cell_type": "code",
   "execution_count": 116,
   "id": "e826087c",
   "metadata": {},
   "outputs": [
    {
     "data": {
      "text/plain": [
       "['pheobe', 'chandler', 'raechel', 'john']"
      ]
     },
     "execution_count": 116,
     "metadata": {},
     "output_type": "execute_result"
    }
   ],
   "source": [
    "friends.remove(\"ross\")\n",
    "friends"
   ]
  },
  {
   "cell_type": "code",
   "execution_count": 117,
   "id": "d638020f",
   "metadata": {},
   "outputs": [
    {
     "data": {
      "text/plain": [
       "['chandler', 'john', 'pheobe', 'raechel']"
      ]
     },
     "execution_count": 117,
     "metadata": {},
     "output_type": "execute_result"
    }
   ],
   "source": [
    "friends.sort()\n",
    "friends"
   ]
  },
  {
   "cell_type": "code",
   "execution_count": 118,
   "id": "22895d54",
   "metadata": {},
   "outputs": [],
   "source": [
    "friends.reverse()"
   ]
  },
  {
   "cell_type": "code",
   "execution_count": 119,
   "id": "1a476afa",
   "metadata": {},
   "outputs": [
    {
     "data": {
      "text/plain": [
       "['raechel', 'pheobe', 'john', 'chandler']"
      ]
     },
     "execution_count": 119,
     "metadata": {},
     "output_type": "execute_result"
    }
   ],
   "source": [
    "friends"
   ]
  },
  {
   "cell_type": "code",
   "execution_count": 6,
   "id": "58e513bd",
   "metadata": {},
   "outputs": [
    {
     "data": {
      "text/plain": [
       "['joey', 'pheobe', 'ross']"
      ]
     },
     "execution_count": 6,
     "metadata": {},
     "output_type": "execute_result"
    }
   ],
   "source": [
    "friends=[\"ross\",\"pheobe\",\"joey\"]\n",
    "friends.sort(reverse=False) #sorting in descending order.\n",
    "friends"
   ]
  },
  {
   "cell_type": "code",
   "execution_count": 121,
   "id": "4499c141",
   "metadata": {},
   "outputs": [
    {
     "data": {
      "text/plain": [
       "4"
      ]
     },
     "execution_count": 121,
     "metadata": {},
     "output_type": "execute_result"
    }
   ],
   "source": [
    "len(friends)"
   ]
  },
  {
   "cell_type": "code",
   "execution_count": 122,
   "id": "745db5a4",
   "metadata": {},
   "outputs": [
    {
     "data": {
      "text/plain": [
       "'raechel'"
      ]
     },
     "execution_count": 122,
     "metadata": {},
     "output_type": "execute_result"
    }
   ],
   "source": [
    "max(friends)"
   ]
  },
  {
   "cell_type": "code",
   "execution_count": 143,
   "id": "d5b98d97",
   "metadata": {},
   "outputs": [
    {
     "data": {
      "text/plain": [
       "['raechel', 'pheobe', 'john', 'chandler']"
      ]
     },
     "execution_count": 143,
     "metadata": {},
     "output_type": "execute_result"
    }
   ],
   "source": [
    "sorted(friends,reverse=True) #imp"
   ]
  },
  {
   "cell_type": "code",
   "execution_count": 124,
   "id": "72f66308",
   "metadata": {},
   "outputs": [
    {
     "data": {
      "text/plain": [
       "10"
      ]
     },
     "execution_count": 124,
     "metadata": {},
     "output_type": "execute_result"
    }
   ],
   "source": [
    "sum([1,2,3,4])"
   ]
  },
  {
   "cell_type": "code",
   "execution_count": 24,
   "id": "d9affc89",
   "metadata": {},
   "outputs": [
    {
     "data": {
      "text/plain": [
       "257"
      ]
     },
     "execution_count": 24,
     "metadata": {},
     "output_type": "execute_result"
    }
   ],
   "source": [
    "l1=[12,23,234]\n",
    "l2=[32,34,32]\n",
    "l1[2]+l2[0]\n",
    "# sum(l1)+sum(l2)\n",
    "l1[2]+23"
   ]
  },
  {
   "cell_type": "code",
   "execution_count": 29,
   "id": "a4904501",
   "metadata": {},
   "outputs": [
    {
     "data": {
      "text/plain": [
       "2"
      ]
     },
     "execution_count": 29,
     "metadata": {},
     "output_type": "execute_result"
    }
   ],
   "source": [
    "movie_names=[\"leo\",\"jeo\",\"premalo\",\"Master\",\"leo\"]\n",
    "#print(\"The is\",movie_names.count(\"leo\"))\n",
    "movie_names.count(\"leo\")"
   ]
  },
  {
   "cell_type": "code",
   "execution_count": 30,
   "id": "8c30770a",
   "metadata": {},
   "outputs": [
    {
     "data": {
      "text/plain": [
       "'leo'"
      ]
     },
     "execution_count": 30,
     "metadata": {},
     "output_type": "execute_result"
    }
   ],
   "source": [
    "movie_names=[\"leo\",\"jeo\",\"premalo\",\"Master\",\"leo\"]\n",
    "movie_names.pop()"
   ]
  },
  {
   "cell_type": "code",
   "execution_count": 31,
   "id": "8a97436c",
   "metadata": {},
   "outputs": [
    {
     "data": {
      "text/plain": [
       "['leo', 'jeo', 'premalo', 'Master']"
      ]
     },
     "execution_count": 31,
     "metadata": {},
     "output_type": "execute_result"
    }
   ],
   "source": [
    "movie_names"
   ]
  },
  {
   "cell_type": "code",
   "execution_count": 32,
   "id": "1b9f9938",
   "metadata": {},
   "outputs": [
    {
     "data": {
      "text/plain": [
       "'premalo'"
      ]
     },
     "execution_count": 32,
     "metadata": {},
     "output_type": "execute_result"
    }
   ],
   "source": [
    "movie_names.pop(2)"
   ]
  },
  {
   "cell_type": "code",
   "execution_count": 33,
   "id": "015a93de",
   "metadata": {},
   "outputs": [
    {
     "data": {
      "text/plain": [
       "['leo', 'jeo', 'Master']"
      ]
     },
     "execution_count": 33,
     "metadata": {},
     "output_type": "execute_result"
    }
   ],
   "source": [
    "movie_names"
   ]
  },
  {
   "cell_type": "code",
   "execution_count": 40,
   "id": "7e06bc99",
   "metadata": {},
   "outputs": [],
   "source": [
    "del(movie_names[2])"
   ]
  },
  {
   "cell_type": "code",
   "execution_count": 36,
   "id": "a406dfd5",
   "metadata": {},
   "outputs": [],
   "source": [
    "movie_names=[\"leo\",\"jeo\",\"premalo\",\"Master\",\"leo\"]"
   ]
  },
  {
   "cell_type": "code",
   "execution_count": 38,
   "id": "89a1f2af",
   "metadata": {},
   "outputs": [
    {
     "data": {
      "text/plain": [
       "['leo', 'jeo', 'Master', 'leo']"
      ]
     },
     "execution_count": 38,
     "metadata": {},
     "output_type": "execute_result"
    }
   ],
   "source": [
    "movie_names"
   ]
  },
  {
   "cell_type": "markdown",
   "id": "9aee7b2f",
   "metadata": {},
   "source": [
    "SET"
   ]
  },
  {
   "cell_type": "code",
   "execution_count": 34,
   "id": "9faed3b0",
   "metadata": {},
   "outputs": [
    {
     "data": {
      "text/plain": [
       "{10, 20, 30, 40, 50}"
      ]
     },
     "execution_count": 34,
     "metadata": {},
     "output_type": "execute_result"
    }
   ],
   "source": [
    "s={10,20,30,40,50}\n",
    "s"
   ]
  },
  {
   "cell_type": "code",
   "execution_count": 8,
   "id": "cdbe6555",
   "metadata": {},
   "outputs": [
    {
     "data": {
      "text/plain": [
       "True"
      ]
     },
     "execution_count": 8,
     "metadata": {},
     "output_type": "execute_result"
    }
   ],
   "source": [
    "set()\n",
    "bool(set)"
   ]
  },
  {
   "cell_type": "code",
   "execution_count": 38,
   "id": "464546fd",
   "metadata": {},
   "outputs": [
    {
     "name": "stdout",
     "output_type": "stream",
     "text": [
      "{'d', 'h', 'c', 40, 10, 'abcd', 50, 20, 'a', 'b', 30}\n"
     ]
    }
   ],
   "source": [
    "s.add(\"abcd\")  #add at random positon\n",
    "print(s)"
   ]
  },
  {
   "cell_type": "code",
   "execution_count": 140,
   "id": "0d6d1583",
   "metadata": {},
   "outputs": [
    {
     "name": "stdout",
     "output_type": "stream",
     "text": [
      "{1, 2, 3, 10, 20, 'abcd', 30, 40, 50}\n"
     ]
    }
   ],
   "source": [
    "s.update((1,2,3))\n",
    "print(s)"
   ]
  },
  {
   "cell_type": "code",
   "execution_count": 141,
   "id": "5253053f",
   "metadata": {},
   "outputs": [
    {
     "name": "stdout",
     "output_type": "stream",
     "text": [
      "{2, 3, 10, 20, 'abcd', 30, 40, 50}\n"
     ]
    }
   ],
   "source": [
    "s.pop()\n",
    "print(s)"
   ]
  },
  {
   "cell_type": "code",
   "execution_count": 142,
   "id": "fe9b09a8",
   "metadata": {},
   "outputs": [
    {
     "data": {
      "text/plain": [
       "{10, 2, 20, 3, 30, 40, 'abcd'}"
      ]
     },
     "execution_count": 142,
     "metadata": {},
     "output_type": "execute_result"
    }
   ],
   "source": [
    "s.remove(50)\n",
    "s"
   ]
  },
  {
   "cell_type": "markdown",
   "id": "2d2fe943",
   "metadata": {},
   "source": [
    "operations on sets"
   ]
  },
  {
   "cell_type": "code",
   "execution_count": 146,
   "id": "59de7965",
   "metadata": {},
   "outputs": [],
   "source": [
    "s1={1,2,3,4,5}\n",
    "s2={4,5,6,7,8}"
   ]
  },
  {
   "cell_type": "code",
   "execution_count": 147,
   "id": "8818e04b",
   "metadata": {},
   "outputs": [
    {
     "data": {
      "text/plain": [
       "{1, 2, 3, 4, 5, 6, 7, 8}"
      ]
     },
     "execution_count": 147,
     "metadata": {},
     "output_type": "execute_result"
    }
   ],
   "source": [
    "s1 | s2 #union"
   ]
  },
  {
   "cell_type": "code",
   "execution_count": 148,
   "id": "a2012c72",
   "metadata": {},
   "outputs": [
    {
     "data": {
      "text/plain": [
       "{4, 5}"
      ]
     },
     "execution_count": 148,
     "metadata": {},
     "output_type": "execute_result"
    }
   ],
   "source": [
    "s1 & s2 #intersection"
   ]
  },
  {
   "cell_type": "code",
   "execution_count": 150,
   "id": "ed866aaa",
   "metadata": {},
   "outputs": [
    {
     "data": {
      "text/plain": [
       "{1, 2, 3, 6, 7, 8}"
      ]
     },
     "execution_count": 150,
     "metadata": {},
     "output_type": "execute_result"
    }
   ],
   "source": [
    "s1 ^ s2 #symmetric difference"
   ]
  },
  {
   "cell_type": "code",
   "execution_count": 151,
   "id": "8c54e1dd",
   "metadata": {},
   "outputs": [
    {
     "data": {
      "text/plain": [
       "{1, 2, 3}"
      ]
     },
     "execution_count": 151,
     "metadata": {},
     "output_type": "execute_result"
    }
   ],
   "source": [
    "s1-s2 #difference"
   ]
  },
  {
   "cell_type": "code",
   "execution_count": 156,
   "id": "a9a317f9",
   "metadata": {},
   "outputs": [
    {
     "ename": "TypeError",
     "evalue": "'float' object cannot be interpreted as an integer",
     "output_type": "error",
     "traceback": [
      "\u001b[1;31m---------------------------------------------------------------------------\u001b[0m",
      "\u001b[1;31mTypeError\u001b[0m                                 Traceback (most recent call last)",
      "\u001b[1;32m~\\AppData\\Local\\Temp/ipykernel_1288/269297432.py\u001b[0m in \u001b[0;36m<module>\u001b[1;34m\u001b[0m\n\u001b[1;32m----> 1\u001b[1;33m \u001b[0moct\u001b[0m\u001b[1;33m(\u001b[0m\u001b[1;36m12.5\u001b[0m\u001b[1;33m)\u001b[0m\u001b[1;33m\u001b[0m\u001b[1;33m\u001b[0m\u001b[0m\n\u001b[0m",
      "\u001b[1;31mTypeError\u001b[0m: 'float' object cannot be interpreted as an integer"
     ]
    }
   ],
   "source": [
    "oct(12.5)"
   ]
  },
  {
   "cell_type": "code",
   "execution_count": 10,
   "id": "eff42461",
   "metadata": {},
   "outputs": [
    {
     "data": {
      "text/plain": [
       "'1020'"
      ]
     },
     "execution_count": 10,
     "metadata": {},
     "output_type": "execute_result"
    }
   ],
   "source": [
    "a='10'\n",
    "b='20'\n",
    "a+b"
   ]
  },
  {
   "cell_type": "code",
   "execution_count": 13,
   "id": "5ac3aab3",
   "metadata": {},
   "outputs": [
    {
     "data": {
      "text/plain": [
       "8.06225774829855"
      ]
     },
     "execution_count": 13,
     "metadata": {},
     "output_type": "execute_result"
    }
   ],
   "source": [
    "abs(1+8j)"
   ]
  },
  {
   "cell_type": "code",
   "execution_count": 15,
   "id": "717e3f25",
   "metadata": {},
   "outputs": [
    {
     "data": {
      "text/plain": [
       "(1.55+0j)"
      ]
     },
     "execution_count": 15,
     "metadata": {},
     "output_type": "execute_result"
    }
   ],
   "source": [
    "complex(1.55)"
   ]
  },
  {
   "cell_type": "code",
   "execution_count": 20,
   "id": "b0645381",
   "metadata": {},
   "outputs": [
    {
     "data": {
      "text/plain": [
       "6"
      ]
     },
     "execution_count": 20,
     "metadata": {},
     "output_type": "execute_result"
    }
   ],
   "source": [
    "lst=[1,2,3,4,5,6]\n",
    "lst.sort()\n",
    "lst[-1]"
   ]
  },
  {
   "cell_type": "code",
   "execution_count": 26,
   "id": "4abec3df",
   "metadata": {},
   "outputs": [
    {
     "ename": "TypeError",
     "evalue": "'int' object is not iterable",
     "output_type": "error",
     "traceback": [
      "\u001b[1;31m---------------------------------------------------------------------------\u001b[0m",
      "\u001b[1;31mTypeError\u001b[0m                                 Traceback (most recent call last)",
      "\u001b[1;32m~\\AppData\\Local\\Temp/ipykernel_13252/3810663684.py\u001b[0m in \u001b[0;36m<module>\u001b[1;34m\u001b[0m\n\u001b[0;32m      1\u001b[0m \u001b[0mm\u001b[0m\u001b[1;33m=\u001b[0m\u001b[1;36m98076\u001b[0m\u001b[1;33m\u001b[0m\u001b[1;33m\u001b[0m\u001b[0m\n\u001b[1;32m----> 2\u001b[1;33m \u001b[1;32mfor\u001b[0m \u001b[0mi\u001b[0m \u001b[1;32min\u001b[0m \u001b[0mm\u001b[0m\u001b[1;33m:\u001b[0m\u001b[1;33m\u001b[0m\u001b[1;33m\u001b[0m\u001b[0m\n\u001b[0m\u001b[0;32m      3\u001b[0m     \u001b[0mprint\u001b[0m\u001b[1;33m(\u001b[0m\u001b[0mi\u001b[0m\u001b[1;33m)\u001b[0m\u001b[1;33m\u001b[0m\u001b[1;33m\u001b[0m\u001b[0m\n",
      "\u001b[1;31mTypeError\u001b[0m: 'int' object is not iterable"
     ]
    }
   ],
   "source": [
    "m=98076\n",
    "for i in m:\n",
    "    print(i)"
   ]
  },
  {
   "cell_type": "code",
   "execution_count": 3,
   "id": "66b088b5",
   "metadata": {},
   "outputs": [
    {
     "name": "stdout",
     "output_type": "stream",
     "text": [
      "The count is: 1\n",
      "The count is: 2\n",
      "The count is: 3\n",
      "Good bye!\n"
     ]
    }
   ],
   "source": [
    "count = 1\n",
    "while (count < 4):\n",
    "    print ('The count is:', count)\n",
    "    count = count + 1\n",
    "\n",
    "print (\"Good bye!\")"
   ]
  },
  {
   "cell_type": "code",
   "execution_count": 40,
   "id": "fa2be79c",
   "metadata": {},
   "outputs": [
    {
     "name": "stdout",
     "output_type": "stream",
     "text": [
      "Not divisible by 5\n"
     ]
    }
   ],
   "source": [
    "j = 5.5\n",
    "\n",
    "if( j %5 == 0):\n",
    "    print(\"Divisible by 5\")\n",
    "else:\n",
    "    print(\"Not divisible by 5\")"
   ]
  },
  {
   "cell_type": "code",
   "execution_count": 37,
   "id": "5dd185a4",
   "metadata": {},
   "outputs": [],
   "source": [
    "import math\n",
    "def squareroot(a):\n",
    "    return math.sqrt(a)"
   ]
  },
  {
   "cell_type": "code",
   "execution_count": 38,
   "id": "dcf26a28",
   "metadata": {},
   "outputs": [
    {
     "data": {
      "text/plain": [
       "2.0"
      ]
     },
     "execution_count": 38,
     "metadata": {},
     "output_type": "execute_result"
    }
   ],
   "source": [
    "squareroot(4)\n"
   ]
  },
  {
   "cell_type": "code",
   "execution_count": 33,
   "id": "3712432d",
   "metadata": {},
   "outputs": [
    {
     "data": {
      "text/plain": [
       "20"
      ]
     },
     "execution_count": 33,
     "metadata": {},
     "output_type": "execute_result"
    }
   ],
   "source": [
    "def addition(*args):\n",
    "    return sum(args)\n",
    "addition(10,10)"
   ]
  },
  {
   "cell_type": "code",
   "execution_count": 34,
   "id": "6516d09a",
   "metadata": {},
   "outputs": [
    {
     "data": {
      "text/plain": [
       "0.0"
      ]
     },
     "execution_count": 34,
     "metadata": {},
     "output_type": "execute_result"
    }
   ],
   "source": [
    "def sqrt(num):\n",
    "    num=0\n",
    "    import math\n",
    "    return math.sqrt(num)\n",
    "sqrt(9)"
   ]
  },
  {
   "cell_type": "code",
   "execution_count": 35,
   "id": "fde2a3f1",
   "metadata": {},
   "outputs": [
    {
     "ename": "TypeError",
     "evalue": "'tuple' object cannot be interpreted as an integer",
     "output_type": "error",
     "traceback": [
      "\u001b[1;31m---------------------------------------------------------------------------\u001b[0m",
      "\u001b[1;31mTypeError\u001b[0m                                 Traceback (most recent call last)",
      "\u001b[1;32m~\\AppData\\Local\\Temp/ipykernel_13252/3072660427.py\u001b[0m in \u001b[0;36m<module>\u001b[1;34m\u001b[0m\n\u001b[0;32m      1\u001b[0m \u001b[1;32mdef\u001b[0m \u001b[0maddition\u001b[0m\u001b[1;33m(\u001b[0m\u001b[1;33m*\u001b[0m\u001b[0margs\u001b[0m\u001b[1;33m)\u001b[0m\u001b[1;33m:\u001b[0m\u001b[1;33m\u001b[0m\u001b[1;33m\u001b[0m\u001b[0m\n\u001b[0;32m      2\u001b[0m     \u001b[1;32mreturn\u001b[0m \u001b[0mbin\u001b[0m\u001b[1;33m(\u001b[0m\u001b[0margs\u001b[0m\u001b[1;33m)\u001b[0m\u001b[1;33m\u001b[0m\u001b[1;33m\u001b[0m\u001b[0m\n\u001b[1;32m----> 3\u001b[1;33m \u001b[0maddition\u001b[0m\u001b[1;33m(\u001b[0m\u001b[1;36m10\u001b[0m\u001b[1;33m,\u001b[0m\u001b[1;36m10\u001b[0m\u001b[1;33m)\u001b[0m\u001b[1;33m\u001b[0m\u001b[1;33m\u001b[0m\u001b[0m\n\u001b[0m",
      "\u001b[1;32m~\\AppData\\Local\\Temp/ipykernel_13252/3072660427.py\u001b[0m in \u001b[0;36maddition\u001b[1;34m(*args)\u001b[0m\n\u001b[0;32m      1\u001b[0m \u001b[1;32mdef\u001b[0m \u001b[0maddition\u001b[0m\u001b[1;33m(\u001b[0m\u001b[1;33m*\u001b[0m\u001b[0margs\u001b[0m\u001b[1;33m)\u001b[0m\u001b[1;33m:\u001b[0m\u001b[1;33m\u001b[0m\u001b[1;33m\u001b[0m\u001b[0m\n\u001b[1;32m----> 2\u001b[1;33m     \u001b[1;32mreturn\u001b[0m \u001b[0mbin\u001b[0m\u001b[1;33m(\u001b[0m\u001b[0margs\u001b[0m\u001b[1;33m)\u001b[0m\u001b[1;33m\u001b[0m\u001b[1;33m\u001b[0m\u001b[0m\n\u001b[0m\u001b[0;32m      3\u001b[0m \u001b[0maddition\u001b[0m\u001b[1;33m(\u001b[0m\u001b[1;36m10\u001b[0m\u001b[1;33m,\u001b[0m\u001b[1;36m10\u001b[0m\u001b[1;33m)\u001b[0m\u001b[1;33m\u001b[0m\u001b[1;33m\u001b[0m\u001b[0m\n",
      "\u001b[1;31mTypeError\u001b[0m: 'tuple' object cannot be interpreted as an integer"
     ]
    }
   ],
   "source": [
    "def addition(*args):\n",
    "    return bin(args)\n",
    "addition(10,10)"
   ]
  },
  {
   "cell_type": "code",
   "execution_count": 1,
   "id": "eac727a9",
   "metadata": {},
   "outputs": [
    {
     "name": "stdout",
     "output_type": "stream",
     "text": [
      "You are welcome to func\n",
      "12\n"
     ]
    }
   ],
   "source": [
    "def func():\n",
    "    print(\"You are welcome to func\")\n",
    "    var = 12\n",
    "    print(var)\n",
    "func()"
   ]
  },
  {
   "cell_type": "code",
   "execution_count": 1,
   "id": "92984d69",
   "metadata": {},
   "outputs": [
    {
     "name": "stdout",
     "output_type": "stream",
     "text": [
      "enter the word-madam\n",
      "Palindrome\n"
     ]
    }
   ],
   "source": [
    "a=input(\"enter the word-\")\n",
    "if a==a[::-1]:\n",
    "    print(\"Palindrome\")\n",
    "else:\n",
    "    print(\"Not palindrome\")\n",
    "\n"
   ]
  },
  {
   "cell_type": "code",
   "execution_count": 4,
   "id": "274db055",
   "metadata": {},
   "outputs": [
    {
     "name": "stdout",
     "output_type": "stream",
     "text": [
      "enter a no23\n"
     ]
    }
   ],
   "source": [
    "num = input(\"enter a no\")\n",
    "if num==23:\n",
    "    print(\"hi\")"
   ]
  },
  {
   "cell_type": "code",
   "execution_count": 8,
   "id": "0dc236a4",
   "metadata": {},
   "outputs": [
    {
     "name": "stdout",
     "output_type": "stream",
     "text": [
      "False\n"
     ]
    }
   ],
   "source": [
    "list1, list2 = [123, 'xyz'], [123, 'xyz']\n",
    "print((list1!=list2))\n",
    "# print cmp(list2, list1)\n",
    "# list3 = list2 + [786]\n",
    "# print cmp(list2, list3)"
   ]
  },
  {
   "cell_type": "code",
   "execution_count": null,
   "id": "f9661ffd",
   "metadata": {},
   "outputs": [],
   "source": []
  }
 ],
 "metadata": {
  "kernelspec": {
   "display_name": "Python 3 (ipykernel)",
   "language": "python",
   "name": "python3"
  },
  "language_info": {
   "codemirror_mode": {
    "name": "ipython",
    "version": 3
   },
   "file_extension": ".py",
   "mimetype": "text/x-python",
   "name": "python",
   "nbconvert_exporter": "python",
   "pygments_lexer": "ipython3",
   "version": "3.11.5"
  }
 },
 "nbformat": 4,
 "nbformat_minor": 5
}
