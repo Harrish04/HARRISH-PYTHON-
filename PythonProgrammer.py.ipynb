{
 "cells": [
  {
   "cell_type": "markdown",
   "id": "5e9b9043",
   "metadata": {},
   "source": [
    "### Hello world program\n",
    "  "
   ]
  },
  {
   "cell_type": "code",
   "execution_count": 2,
   "id": "409bb123",
   "metadata": {},
   "outputs": [],
   "source": [
    "#output function\n",
    "#comments "
   ]
  },
  {
   "cell_type": "code",
   "execution_count": 17,
   "id": "72540dc9",
   "metadata": {},
   "outputs": [
    {
     "name": "stdout",
     "output_type": "stream",
     "text": [
      "Hello world\n",
      "Lets see csk match\n",
      "122334455\n",
      "@\n",
      "3000\n",
      "123\n"
     ]
    }
   ],
   "source": [
    "print(\"Hello world\")\n",
    "print('Lets see csk match')\n",
    "print(122334455)\n",
    "#comments \n",
    "print('@')\n",
    "match='@'\n",
    "type(match)#it is used check data types\n",
    "ticketPrice = 3000\n",
    "print(ticketPrice)#output\n",
    "type(ticketPrice)#function \n",
    "age=123\n",
    "print(age)"
   ]
  },
  {
   "cell_type": "code",
   "execution_count": 21,
   "id": "fbe47cdc",
   "metadata": {},
   "outputs": [
    {
     "data": {
      "text/plain": [
       "25"
      ]
     },
     "execution_count": 21,
     "metadata": {},
     "output_type": "execute_result"
    }
   ],
   "source": [
    "#squ rooot \n",
    "num=5\n",
    "sq_root=num**2\n",
    "sq_root"
   ]
  },
  {
   "cell_type": "code",
   "execution_count": 28,
   "id": "745682a2",
   "metadata": {},
   "outputs": [
    {
     "name": "stdout",
     "output_type": "stream",
     "text": [
      "Enter your  good name : bharath\n",
      "~~~~~~~~~~~~~~~~~~~~~~~~~~~~\n",
      "welcome to ipl match bharath\n",
      "Enter your choiceveg pizza\n",
      "yours selected this one Mexican pizza\n",
      "going to Trip from Trichy\n"
     ]
    }
   ],
   "source": [
    "#input\n",
    "name = input(\"Enter your  good name : \")\n",
    "print(\"~~~~~~~~~~~~~~~~~~~~~~~~~~~~\")\n",
    "print(\"welcome to ipl match\",name)#concat(joining)\n",
    "pizzaName=str(input(\"Enter your choice\"))\n",
    "print(\"yours selected this one\",pizza_name)\n",
    "print(\"going to Trip from Trichy\")#t tab space\\n new line"
   ]
  },
  {
   "cell_type": "code",
   "execution_count": 32,
   "id": "e510fa2d",
   "metadata": {},
   "outputs": [
    {
     "name": "stdout",
     "output_type": "stream",
     "text": [
      "hi\n",
      "hi\n",
      "hi\n"
     ]
    }
   ],
   "source": [
    "if 12==12:\n",
    "        print(\"hi\")\n",
    "        print(\"hi\")\n",
    "        print(\"hi\")"
   ]
  },
  {
   "cell_type": "code",
   "execution_count": 34,
   "id": "a8f35df7",
   "metadata": {},
   "outputs": [
    {
     "name": "stdout",
     "output_type": "stream",
     "text": [
      "Leo\n"
     ]
    }
   ],
   "source": [
    "moviename=\"Leo\"\n",
    "print(moviename)"
   ]
  },
  {
   "cell_type": "code",
   "execution_count": 38,
   "id": "94645c36",
   "metadata": {},
   "outputs": [
    {
     "name": "stdout",
     "output_type": "stream",
     "text": [
      "enter a number:3\n",
      "foo\n"
     ]
    }
   ],
   "source": [
    "num = float(input(\"enter a number:\"))\n",
    "squ_root= num ** 0.5\n",
    "if squ_root>=1 : \n",
    "    print(\"foo\")\n",
    "else :\n",
    "    print(\"Bar\")"
   ]
  },
  {
   "cell_type": "code",
   "execution_count": 37,
   "id": "dbebd2b9",
   "metadata": {},
   "outputs": [
    {
     "data": {
      "text/plain": [
       "1.7320508075688772"
      ]
     },
     "execution_count": 37,
     "metadata": {},
     "output_type": "execute_result"
    }
   ],
   "source": [
    "3**0.5"
   ]
  },
  {
   "cell_type": "code",
   "execution_count": 43,
   "id": "b1e7f860",
   "metadata": {},
   "outputs": [
    {
     "name": "stdout",
     "output_type": "stream",
     "text": [
      "enter score details233\n",
      "enter your fav team Namecsk\n",
      "loss the match**"
     ]
    }
   ],
   "source": [
    "score = int(input(\"enter score details\"))\n",
    "teamName = str(input(\"enter your fav team Name\"))\n",
    "if score == 277:\n",
    "    print(\"win the match \",teamName)\n",
    "else :\n",
    "    print(\"loss the match\",end=\"**\")"
   ]
  },
  {
   "cell_type": "markdown",
   "id": "1dee80b2",
   "metadata": {},
   "source": [
    "# basic program"
   ]
  },
  {
   "cell_type": "code",
   "execution_count": 44,
   "id": "98efb1b0",
   "metadata": {},
   "outputs": [
    {
     "name": "stdout",
     "output_type": "stream",
     "text": [
      "Hello Kaviya\n"
     ]
    }
   ],
   "source": [
    "print(\"Hello Kaviya\")"
   ]
  },
  {
   "cell_type": "code",
   "execution_count": 45,
   "id": "90c35ee8",
   "metadata": {},
   "outputs": [
    {
     "name": "stdout",
     "output_type": "stream",
     "text": [
      "123445566\n"
     ]
    }
   ],
   "source": [
    "print(123445566)"
   ]
  },
  {
   "cell_type": "code",
   "execution_count": 50,
   "id": "4d1eb3e8",
   "metadata": {},
   "outputs": [
    {
     "name": "stdout",
     "output_type": "stream",
     "text": [
      "@@@@@@$#%&^\n"
     ]
    }
   ],
   "source": [
    "print('@@@@@@$#%&^') #string data type"
   ]
  },
  {
   "cell_type": "code",
   "execution_count": 51,
   "id": "7bebc92c",
   "metadata": {},
   "outputs": [
    {
     "name": "stdout",
     "output_type": "stream",
     "text": [
      "Welcome to python classs....\n",
      "lets go to ipl match....\n",
      "Hello world\n"
     ]
    }
   ],
   "source": [
    "print('Welcome to python classs....') #String k a v i y a collection characters.\n",
    "print(\"lets go to ipl match....\") #dobule qutoes assign\n",
    "print('''Hello world''')#3 qutoes assign"
   ]
  },
  {
   "cell_type": "code",
   "execution_count": 54,
   "id": "38c16a66",
   "metadata": {},
   "outputs": [
    {
     "name": "stdout",
     "output_type": "stream",
     "text": [
      "Welcome to python classs....\n",
      "lets go to ipl match...\n",
      "Hello world\n"
     ]
    }
   ],
   "source": [
    "print('Welcome to python classs....\\nlets go to ipl match...\\nHello world')#new line \n",
    " "
   ]
  },
  {
   "cell_type": "code",
   "execution_count": 56,
   "id": "396e4777",
   "metadata": {},
   "outputs": [
    {
     "name": "stdout",
     "output_type": "stream",
     "text": [
      "python\t\tclass started\n"
     ]
    }
   ],
   "source": [
    "print('python\\t\\tclass started')#\\t tab space"
   ]
  },
  {
   "cell_type": "code",
   "execution_count": 64,
   "id": "82ef079e",
   "metadata": {},
   "outputs": [],
   "source": [
    "#function:\n",
    "def buy():  \n",
    "    print(\"Started to purcharse...\")"
   ]
  },
  {
   "cell_type": "code",
   "execution_count": 62,
   "id": "36f1b14f",
   "metadata": {},
   "outputs": [
    {
     "name": "stdout",
     "output_type": "stream",
     "text": [
      "Started to purcharse...\n"
     ]
    }
   ],
   "source": [
    "#calling part\n",
    "buy()"
   ]
  },
  {
   "cell_type": "code",
   "execution_count": 59,
   "id": "72aa1a5f",
   "metadata": {},
   "outputs": [],
   "source": [
    "def sum():\n",
    "    print(2+8)"
   ]
  },
  {
   "cell_type": "code",
   "execution_count": 60,
   "id": "0e37842f",
   "metadata": {},
   "outputs": [
    {
     "name": "stdout",
     "output_type": "stream",
     "text": [
      "10\n"
     ]
    }
   ],
   "source": [
    "sum()"
   ]
  },
  {
   "cell_type": "code",
   "execution_count": 67,
   "id": "7181d3cb",
   "metadata": {},
   "outputs": [
    {
     "name": "stdout",
     "output_type": "stream",
     "text": [
      "25\n"
     ]
    }
   ],
   "source": [
    "#variable declare\n",
    "a=12\n",
    "b=13\n",
    "print(a+b)"
   ]
  },
  {
   "cell_type": "code",
   "execution_count": 69,
   "id": "8bbd1881",
   "metadata": {},
   "outputs": [
    {
     "name": "stdout",
     "output_type": "stream",
     "text": [
      "Kaviya..\n",
      "120\n"
     ]
    }
   ],
   "source": [
    "#static\n",
    "ticketPrice=120\n",
    "name = 'Kaviya..'\n",
    "print(name)\n",
    "print(ticketPrice)"
   ]
  },
  {
   "cell_type": "code",
   "execution_count": null,
   "id": "181ca7ff",
   "metadata": {},
   "outputs": [],
   "source": [
    "#dynamic\n",
    "ticketPrice=input(\"enter price\")\n",
    "print(\"the price \")"
   ]
  },
  {
   "cell_type": "code",
   "execution_count": 77,
   "id": "92f77754",
   "metadata": {},
   "outputs": [
    {
     "name": "stdout",
     "output_type": "stream",
     "text": [
      "enter your age12\n",
      "try to next time\n"
     ]
    }
   ],
   "source": [
    "age= int(input(\"enter your age\"))\n",
    "#age=15\n",
    "if age>=18:\n",
    "    print(\"welcome to vote\")\n",
    "else:\n",
    "    print(\"try to next time\")"
   ]
  },
  {
   "cell_type": "code",
   "execution_count": 78,
   "id": "1cacabb2",
   "metadata": {},
   "outputs": [
    {
     "name": "stdout",
     "output_type": "stream",
     "text": [
      "welcome to python class\n"
     ]
    }
   ],
   "source": [
    "print(\"welcome to python class\")"
   ]
  },
  {
   "cell_type": "code",
   "execution_count": 87,
   "id": "62380bc3",
   "metadata": {},
   "outputs": [],
   "source": [
    "name=\"durga\""
   ]
  },
  {
   "cell_type": "code",
   "execution_count": 88,
   "id": "9be889fc",
   "metadata": {},
   "outputs": [
    {
     "name": "stdout",
     "output_type": "stream",
     "text": [
      "durga\n"
     ]
    }
   ],
   "source": [
    "print(name)"
   ]
  },
  {
   "cell_type": "code",
   "execution_count": 89,
   "id": "510cea36",
   "metadata": {},
   "outputs": [
    {
     "name": "stdout",
     "output_type": "stream",
     "text": [
      "enterherul\n",
      "welcome to  herul\n"
     ]
    }
   ],
   "source": [
    "po=input(\"enter\")\n",
    "print(\"welcome to \",po)"
   ]
  },
  {
   "cell_type": "code",
   "execution_count": 91,
   "id": "f96e0cf1",
   "metadata": {},
   "outputs": [
    {
     "name": "stdout",
     "output_type": "stream",
     "text": [
      "hi kaviya\n"
     ]
    }
   ],
   "source": [
    "print(\"hi\",\"kaviya\")"
   ]
  },
  {
   "cell_type": "code",
   "execution_count": null,
   "id": "16c59d0c",
   "metadata": {},
   "outputs": [],
   "source": [
    "# Input\n",
    "name=input(\"enter your good name\")\n",
    "print('~~~~~~~~~')\n",
    "print(\"welcome to ipl match\",name)#concat(joining)\n",
    "pizzaname =str (input(\"enter your choice\"))\n",
    "print(\"your selected this one\",pizzaname)\n",
    "print(\"going to trip from trichy\")#t tab space\\n new line\n",
    "\n",
    "\n",
    "\n",
    "\n",
    "\n",
    "\n",
    "\n",
    "\n",
    "\n",
    "\n",
    "\n"
   ]
  },
  {
   "cell_type": "code",
   "execution_count": 3,
   "id": "7c72d173",
   "metadata": {},
   "outputs": [
    {
     "name": "stdout",
     "output_type": "stream",
     "text": [
      "started to purchase...\n"
     ]
    }
   ],
   "source": [
    "# function\n",
    "def buy():#syntax def function name()\n",
    "    print(\"started to purchase...\")\n",
    "    # calling part\n",
    "buy()"
   ]
  },
  {
   "cell_type": "code",
   "execution_count": 7,
   "id": "f4fe14a2",
   "metadata": {},
   "outputs": [
    {
     "name": "stdout",
     "output_type": "stream",
     "text": [
      "enter the nameraja\n",
      "hello,raja\n"
     ]
    }
   ],
   "source": [
    "name = str(input(\"enter the name\"))\n",
    "print(\"hello,\"+name)"
   ]
  },
  {
   "cell_type": "code",
   "execution_count": 8,
   "id": "4112fe7c",
   "metadata": {},
   "outputs": [
    {
     "name": "stdout",
     "output_type": "stream",
     "text": [
      "enter the nameraja\n",
      "hello,a\n"
     ]
    }
   ],
   "source": [
    "a=input(\"enter the name\")\n",
    "print(\"hello,a\")"
   ]
  },
  {
   "cell_type": "code",
   "execution_count": 13,
   "id": "892ffa5f",
   "metadata": {},
   "outputs": [
    {
     "name": "stdout",
     "output_type": "stream",
     "text": [
      "enter the first value\n"
     ]
    },
    {
     "ename": "ValueError",
     "evalue": "invalid literal for int() with base 10: ''",
     "output_type": "error",
     "traceback": [
      "\u001b[1;31m---------------------------------------------------------------------------\u001b[0m",
      "\u001b[1;31mValueError\u001b[0m                                Traceback (most recent call last)",
      "Cell \u001b[1;32mIn[13], line 1\u001b[0m\n\u001b[1;32m----> 1\u001b[0m a\u001b[38;5;241m=\u001b[39m\u001b[38;5;28mint\u001b[39m(\u001b[38;5;28minput\u001b[39m(\u001b[38;5;124m\"\u001b[39m\u001b[38;5;124menter the first value\u001b[39m\u001b[38;5;124m\"\u001b[39m))\n\u001b[0;32m      2\u001b[0m b\u001b[38;5;241m=\u001b[39m\u001b[38;5;28mint\u001b[39m(\u001b[38;5;28minput\u001b[39m(\u001b[38;5;124m\"\u001b[39m\u001b[38;5;124menter the second value\u001b[39m\u001b[38;5;124m\"\u001b[39m))\n\u001b[0;32m      3\u001b[0m \u001b[38;5;28mprint\u001b[39m(a\u001b[38;5;241m+\u001b[39mb)\n",
      "\u001b[1;31mValueError\u001b[0m: invalid literal for int() with base 10: ''"
     ]
    }
   ],
   "source": [
    "a=int(input(\"enter the first value\"))\n",
    "b=int(input(\"enter the second value\"))\n",
    "print(a+b)"
   ]
  },
  {
   "cell_type": "code",
   "execution_count": null,
   "id": "d9e5db5b",
   "metadata": {},
   "outputs": [],
   "source": []
  },
  {
   "cell_type": "code",
   "execution_count": null,
   "id": "e13d693b",
   "metadata": {},
   "outputs": [],
   "source": []
  },
  {
   "cell_type": "code",
   "execution_count": null,
   "id": "33439bbb",
   "metadata": {},
   "outputs": [],
   "source": []
  },
  {
   "cell_type": "code",
   "execution_count": null,
   "id": "de8ba396",
   "metadata": {},
   "outputs": [],
   "source": []
  },
  {
   "cell_type": "code",
   "execution_count": null,
   "id": "dc1e5ec0",
   "metadata": {},
   "outputs": [],
   "source": []
  },
  {
   "cell_type": "code",
   "execution_count": null,
   "id": "4e2abb2c",
   "metadata": {},
   "outputs": [],
   "source": []
  },
  {
   "cell_type": "code",
   "execution_count": null,
   "id": "2a848073",
   "metadata": {},
   "outputs": [],
   "source": []
  }
 ],
 "metadata": {
  "kernelspec": {
   "display_name": "Python 3 (ipykernel)",
   "language": "python",
   "name": "python3"
  },
  "language_info": {
   "codemirror_mode": {
    "name": "ipython",
    "version": 3
   },
   "file_extension": ".py",
   "mimetype": "text/x-python",
   "name": "python",
   "nbconvert_exporter": "python",
   "pygments_lexer": "ipython3",
   "version": "3.11.7"
  }
 },
 "nbformat": 4,
 "nbformat_minor": 5
}
