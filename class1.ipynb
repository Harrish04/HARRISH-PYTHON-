{
 "cells": [
  {
   "cell_type": "code",
   "execution_count": 1,
   "id": "70e46773",
   "metadata": {},
   "outputs": [
    {
     "name": "stdout",
     "output_type": "stream",
     "text": [
      "11\n",
      "47\n",
      "5.0\n"
     ]
    }
   ],
   "source": [
    "#python \n",
    "print(5+6)\n",
    "print(50-3)\n",
    "print((50-5*6)/4)"
   ]
  },
  {
   "cell_type": "code",
   "execution_count": 3,
   "id": "3e505dc5",
   "metadata": {},
   "outputs": [
    {
     "name": "stdout",
     "output_type": "stream",
     "text": [
      "Enter your name - kaviya\n",
      "hello,kaviya\n"
     ]
    }
   ],
   "source": [
    "name = str(input(\"Enter your name - \"))\n",
    "print(\"hello,\"+name)"
   ]
  },
  {
   "cell_type": "code",
   "execution_count": 6,
   "id": "ce3d493e",
   "metadata": {},
   "outputs": [
    {
     "name": "stdout",
     "output_type": "stream",
     "text": [
      "Enter your name-Aravind\n",
      "Hello Aravind\n"
     ]
    }
   ],
   "source": [
    "a=input(\"Enter your name-\")\n",
    "print(\"Hello\",a)"
   ]
  },
  {
   "cell_type": "code",
   "execution_count": 6,
   "id": "5871759d",
   "metadata": {},
   "outputs": [
    {
     "name": "stdout",
     "output_type": "stream",
     "text": [
      "enter the first value 12\n",
      "enter the second value12\n"
     ]
    },
    {
     "data": {
      "text/plain": [
       "24"
      ]
     },
     "execution_count": 6,
     "metadata": {},
     "output_type": "execute_result"
    }
   ],
   "source": [
    "a = input(\"enter the first value \")\n",
    "b = input(\"enter the second value\")\n",
    "int(a)+int(b)"
   ]
  },
  {
   "cell_type": "code",
   "execution_count": 13,
   "id": "c869b6db",
   "metadata": {},
   "outputs": [
    {
     "name": "stdout",
     "output_type": "stream",
     "text": [
      "enter the weight in kgs-70\n",
      "enter the height in mtrs-1.69\n",
      "24.51\n"
     ]
    }
   ],
   "source": [
    "weight=int(input(\"enter the weight in kgs-\"))\n",
    "height=float(input(\"enter the height in mtrs-\"))\n",
    "total = (weight/(height**2))\n",
    "print(round(total,2))\n"
   ]
  },
  {
   "cell_type": "code",
   "execution_count": 13,
   "id": "12e6a990",
   "metadata": {},
   "outputs": [
    {
     "name": "stdout",
     "output_type": "stream",
     "text": [
      "2.32293902285065\n",
      "2.323\n"
     ]
    }
   ],
   "source": [
    "x=46/4.45 ** 2\n",
    "print(x)\n",
    "print(round(x,3))"
   ]
  },
  {
   "cell_type": "code",
   "execution_count": 2,
   "id": "a37017a5",
   "metadata": {},
   "outputs": [
    {
     "data": {
      "text/plain": [
       "2.67"
      ]
     },
     "execution_count": 2,
     "metadata": {},
     "output_type": "execute_result"
    }
   ],
   "source": [
    "round(2.6666,2)"
   ]
  },
  {
   "cell_type": "code",
   "execution_count": 14,
   "id": "3e859271",
   "metadata": {},
   "outputs": [
    {
     "name": "stdout",
     "output_type": "stream",
     "text": [
      "enter rate per hour -500\n",
      "enter number of hrs worked- 2\n",
      "1000\n"
     ]
    }
   ],
   "source": [
    "rate=int(input(\"enter rate per hour -\"))\n",
    "work=int(input(\"enter number of hrs worked- \"))\n",
    "grosspay = rate * work\n",
    "print(grosspay)"
   ]
  },
  {
   "cell_type": "code",
   "execution_count": 1,
   "id": "d857ce95",
   "metadata": {},
   "outputs": [
    {
     "name": "stdout",
     "output_type": "stream",
     "text": [
      "enter the name -vijay\n",
      "enter the age -25\n",
      "vijay 25\n"
     ]
    }
   ],
   "source": [
    "name=input('enter the name -')\n",
    "age=int(input('enter the age -'))\n",
    "print(name,age)"
   ]
  },
  {
   "cell_type": "code",
   "execution_count": 7,
   "id": "7a63a1ae",
   "metadata": {},
   "outputs": [
    {
     "name": "stdout",
     "output_type": "stream",
     "text": [
      "price of the bag-20\n",
      "price of an apple-30\n",
      "50\n"
     ]
    }
   ],
   "source": [
    "A=int(input('price of the bag-'))\n",
    "B=int(input('price of an apple-'))\n",
    "total=A+B\n",
    "print(total)"
   ]
  },
  {
   "cell_type": "code",
   "execution_count": 19,
   "id": "59a3dc21",
   "metadata": {},
   "outputs": [
    {
     "name": "stdout",
     "output_type": "stream",
     "text": [
      "enter a number of students10000\n",
      "matchead\n"
     ]
    }
   ],
   "source": [
    "students=int(input('enter a number of students'))\n",
    "if students>=100:\n",
    "    print('matchead')\n",
    "else:\n",
    "    print(' not matched')\n"
   ]
  },
  {
   "cell_type": "code",
   "execution_count": 20,
   "id": "a2a4564d",
   "metadata": {},
   "outputs": [
    {
     "name": "stdout",
     "output_type": "stream",
     "text": [
      "enter the amount-500\n",
      "enter the rate -67\n",
      "enter the time -5\n",
      "2175.0\n"
     ]
    }
   ],
   "source": [
    "principle=int(input(\"enter the amount-\"))\n",
    "rate=float(input(\"enter the rate -\"))\n",
    "time=int(input(\"enter the time -\"))\n",
    "total=((principle*rate*time)/100)\n",
    "print(total+principle)"
   ]
  },
  {
   "cell_type": "code",
   "execution_count": 30,
   "id": "9c3422a1",
   "metadata": {},
   "outputs": [
    {
     "name": "stdout",
     "output_type": "stream",
     "text": [
      "enter the values-12\n"
     ]
    },
    {
     "data": {
      "text/plain": [
       "True"
      ]
     },
     "execution_count": 30,
     "metadata": {},
     "output_type": "execute_result"
    }
   ],
   "source": [
    "num=int(input(\"enter the values-\"))\n",
    "num>10"
   ]
  },
  {
   "cell_type": "code",
   "execution_count": 3,
   "id": "fafcd36c",
   "metadata": {},
   "outputs": [
    {
     "name": "stdout",
     "output_type": "stream",
     "text": [
      "enter the value12\n"
     ]
    },
    {
     "data": {
      "text/plain": [
       "False"
      ]
     },
     "execution_count": 3,
     "metadata": {},
     "output_type": "execute_result"
    }
   ],
   "source": [
    "num = int(input(\"enter the value\"))\n",
    "(num % 5 ==0)and(num>10)"
   ]
  },
  {
   "cell_type": "code",
   "execution_count": 7,
   "id": "d3ec0551",
   "metadata": {},
   "outputs": [
    {
     "name": "stdout",
     "output_type": "stream",
     "text": [
      "enter the value40\n"
     ]
    },
    {
     "data": {
      "text/plain": [
       "True"
      ]
     },
     "execution_count": 7,
     "metadata": {},
     "output_type": "execute_result"
    }
   ],
   "source": [
    "num = int(input(\"enter the value\"))\n",
    "(num % 5 ==0)or(num>10)"
   ]
  },
  {
   "cell_type": "code",
   "execution_count": 35,
   "id": "a698787b",
   "metadata": {},
   "outputs": [
    {
     "name": "stdout",
     "output_type": "stream",
     "text": [
      "enter the value10\n"
     ]
    },
    {
     "data": {
      "text/plain": [
       "True"
      ]
     },
     "execution_count": 35,
     "metadata": {},
     "output_type": "execute_result"
    }
   ],
   "source": [
    "num = int(input(\"enter the value\"))\n",
    "not (num % 5)"
   ]
  },
  {
   "cell_type": "code",
   "execution_count": 42,
   "id": "9cecd715",
   "metadata": {},
   "outputs": [
    {
     "name": "stdout",
     "output_type": "stream",
     "text": [
      "enter a letter -a\n"
     ]
    },
    {
     "data": {
      "text/plain": [
       "True"
      ]
     },
     "execution_count": 42,
     "metadata": {},
     "output_type": "execute_result"
    }
   ],
   "source": [
    "x=input(\"enter a letter -\")\n",
    "x in \"a,e,i,o,u\" "
   ]
  },
  {
   "cell_type": "code",
   "execution_count": 1,
   "id": "f664241b",
   "metadata": {
    "scrolled": true
   },
   "outputs": [
    {
     "name": "stdout",
     "output_type": "stream",
     "text": [
      "enter the marks12\n",
      "failed\n"
     ]
    }
   ],
   "source": [
    "b=int(input(\"enter the marks\"))\n",
    "if b>40:\n",
    "    print(\"passed\")\n",
    "else:\n",
    "    print(\"failed\")\n",
    "     "
   ]
  },
  {
   "cell_type": "code",
   "execution_count": 56,
   "id": "ec4767bc",
   "metadata": {},
   "outputs": [
    {
     "name": "stdout",
     "output_type": "stream",
     "text": [
      "enter the number-49\n",
      "divisible\n"
     ]
    }
   ],
   "source": [
    "a=int(input(\"enter the number-\"))\n",
    "if a%7 ==0:\n",
    "    print(\"divisible\")\n",
    "else:\n",
    "    print(\"not divisible\")"
   ]
  },
  {
   "cell_type": "code",
   "execution_count": 57,
   "id": "fc7a54e6",
   "metadata": {},
   "outputs": [
    {
     "name": "stdout",
     "output_type": "stream",
     "text": [
      "enter the number 1 -5\n",
      "enter the number 2 -7\n",
      "num2 is greater than num1\n"
     ]
    }
   ],
   "source": [
    "num1=int(input(\"enter the number 1 -\"))\n",
    "num2=int(input(\"enter the number 2 -\"))\n",
    "if num1>num2:\n",
    "    print(\"num1 is greater than num2\")\n",
    "else:\n",
    "    print(\"num2 is greater than num1\")"
   ]
  },
  {
   "cell_type": "code",
   "execution_count": 7,
   "id": "d17a7690",
   "metadata": {},
   "outputs": [
    {
     "name": "stdout",
     "output_type": "stream",
     "text": [
      "2 1 5 3 7 "
     ]
    }
   ],
   "source": [
    "num=[2,1,5,3,7]\n",
    "for x in num:\n",
    "    print(x ,end=' ')"
   ]
  },
  {
   "cell_type": "code",
   "execution_count": 64,
   "id": "adf11112",
   "metadata": {},
   "outputs": [
    {
     "name": "stdout",
     "output_type": "stream",
     "text": [
      "a\n",
      "b\n",
      "c\n",
      "d\n"
     ]
    }
   ],
   "source": [
    "for ch in \"abcd\":\n",
    "        print(ch)"
   ]
  },
  {
   "cell_type": "code",
   "execution_count": 66,
   "id": "d806faba",
   "metadata": {
    "scrolled": true
   },
   "outputs": [
    {
     "name": "stdout",
     "output_type": "stream",
     "text": [
      "210\n"
     ]
    }
   ],
   "source": [
    "numbers=[2,1,5,3,7]\n",
    "product=1\n",
    "for i in numbers:\n",
    "    product=i*product\n",
    "print(product)"
   ]
  },
  {
   "cell_type": "code",
   "execution_count": 68,
   "id": "2a520744",
   "metadata": {},
   "outputs": [
    {
     "name": "stdout",
     "output_type": "stream",
     "text": [
      "b\n",
      "d\n",
      "c\n",
      "d\n"
     ]
    }
   ],
   "source": [
    "for a in \"bdcd\":\n",
    "    print(a)"
   ]
  },
  {
   "cell_type": "code",
   "execution_count": 5,
   "id": "1913f2ba",
   "metadata": {},
   "outputs": [
    {
     "name": "stdout",
     "output_type": "stream",
     "text": [
      "1\n",
      "2\n",
      "6\n",
      "24\n",
      "120\n",
      "720\n",
      "5040\n",
      "40320\n",
      "362880\n",
      "3628800\n"
     ]
    }
   ],
   "source": [
    "x=1\n",
    "for i in range(1,11):\n",
    "    x=x*i\n",
    "    print(x)"
   ]
  },
  {
   "cell_type": "code",
   "execution_count": 9,
   "id": "024dae85",
   "metadata": {},
   "outputs": [
    {
     "name": "stdout",
     "output_type": "stream",
     "text": [
      "average-  69.0\n"
     ]
    }
   ],
   "source": [
    "x=[55,60,65,60,50,70,75,80,85,90]\n",
    "total = 0\n",
    "for i in x:\n",
    "    total=total+i\n",
    "print(\"average- \", total/10)\n",
    "    \n",
    "    "
   ]
  },
  {
   "cell_type": "code",
   "execution_count": 77,
   "id": "443bbeb8",
   "metadata": {},
   "outputs": [
    {
     "name": "stdout",
     "output_type": "stream",
     "text": [
      "5 x 1 = 5\n",
      "5 x 2 = 10\n",
      "5 x 3 = 15\n",
      "5 x 4 = 20\n",
      "5 x 5 = 25\n",
      "5 x 6 = 30\n",
      "5 x 7 = 35\n",
      "5 x 8 = 40\n",
      "5 x 9 = 45\n",
      "5 x 10 = 50\n"
     ]
    }
   ],
   "source": [
    "for i in range(1,11):\n",
    "    print(5,\"x\",i,\"=\",5*i)"
   ]
  },
  {
   "cell_type": "code",
   "execution_count": 12,
   "id": "0ceb5b21",
   "metadata": {},
   "outputs": [
    {
     "name": "stdout",
     "output_type": "stream",
     "text": [
      "3 x 1 = 3\n",
      "3 x 2 = 6\n",
      "3 x 3 = 9\n",
      "3 x 4 = 12\n",
      "3 x 5 = 15\n",
      "3 x 6 = 18\n",
      "3 x 7 = 21\n",
      "3 x 8 = 24\n",
      "3 x 9 = 27\n",
      "3 x 10 = 30\n"
     ]
    }
   ],
   "source": [
    "for i in range (1,11):\n",
    "    print(3,'x',i,'=',3*i)"
   ]
  },
  {
   "cell_type": "code",
   "execution_count": 8,
   "id": "3767b600",
   "metadata": {},
   "outputs": [
    {
     "name": "stdout",
     "output_type": "stream",
     "text": [
      "10 x 1 = 10\n",
      "10 x 2 = 20\n",
      "10 x 3 = 30\n",
      "10 x 4 = 40\n",
      "10 x 5 = 50\n",
      "10 x 6 = 60\n",
      "10 x 7 = 70\n",
      "10 x 8 = 80\n",
      "10 x 9 = 90\n",
      "10 x 10 = 100\n"
     ]
    }
   ],
   "source": [
    "for i in range (1,11):\n",
    "    print(10,'x',i,'=',10*i)\n"
   ]
  },
  {
   "cell_type": "code",
   "execution_count": 10,
   "id": "f58b27ba",
   "metadata": {},
   "outputs": [
    {
     "name": "stdout",
     "output_type": "stream",
     "text": [
      "enter the number= 5\n",
      "factorial 120\n"
     ]
    }
   ],
   "source": [
    "num=int(input(\"enter the number= \"))\n",
    "x=1\n",
    "for i in range(num,1,-1):\n",
    "    x=x*i\n",
    "print(\"factorial\",x)\n",
    "    \n"
   ]
  },
  {
   "cell_type": "code",
   "execution_count": 12,
   "id": "225631df",
   "metadata": {},
   "outputs": [
    {
     "name": "stdout",
     "output_type": "stream",
     "text": [
      "enter the radius -10\n",
      "area is- 314.2857142857143\n"
     ]
    }
   ],
   "source": [
    "rad=int(input(\"enter the radius -\"))\n",
    "area=(22/7)*(rad**2)\n",
    "print(\"area is-\",area)"
   ]
  },
  {
   "cell_type": "code",
   "execution_count": 95,
   "id": "8bc50692",
   "metadata": {},
   "outputs": [
    {
     "name": "stdout",
     "output_type": "stream",
     "text": [
      "enter the height-3\n",
      "enter the base-5\n",
      "hypo - 5.830951894845301\n"
     ]
    }
   ],
   "source": [
    "x=int(input(\"enter the height-\" ))\n",
    "y=int(input(\"enter the base-\"))\n",
    "hypo=(((x**2)+(y**2))**(1/2))\n",
    "print(\"hypo -\",hypo)"
   ]
  },
  {
   "cell_type": "code",
   "execution_count": 92,
   "id": "6853e99a",
   "metadata": {},
   "outputs": [
    {
     "name": "stdout",
     "output_type": "stream",
     "text": [
      "enter the age-17\n",
      "not eligible\n"
     ]
    }
   ],
   "source": [
    "age=int(input(\"enter the age-\"))\n",
    "if age>18:\n",
    "    print(\"eligible\")\n",
    "else:\n",
    "    print(\"not eligible\")\n",
    "    "
   ]
  },
  {
   "cell_type": "code",
   "execution_count": 94,
   "id": "d33a4f8e",
   "metadata": {},
   "outputs": [
    {
     "name": "stdout",
     "output_type": "stream",
     "text": [
      "enter the number-2\n",
      "even number\n"
     ]
    }
   ],
   "source": [
    "x=int(input(\"enter the number-\"))\n",
    "if x%2 ==0:\n",
    "    print(\"even number\")\n",
    "else:\n",
    "    print(\"odd number\")\n",
    "    "
   ]
  },
  {
   "cell_type": "code",
   "execution_count": 103,
   "id": "a9ff02a8",
   "metadata": {},
   "outputs": [
    {
     "name": "stdout",
     "output_type": "stream",
     "text": [
      "5\n",
      "4\n",
      "3\n",
      "2\n",
      "1\n"
     ]
    }
   ],
   "source": [
    "for i in range(5,0,-1):\n",
    "    print(i)"
   ]
  },
  {
   "cell_type": "code",
   "execution_count": 105,
   "id": "ffe11cff",
   "metadata": {},
   "outputs": [
    {
     "name": "stdout",
     "output_type": "stream",
     "text": [
      "enter the height-3\n",
      "enter the base-5\n",
      "5.830951894845301\n"
     ]
    }
   ],
   "source": [
    "import math #libraries\n",
    "x=int(input(\"enter the height-\" ))\n",
    "y=int(input(\"enter the base-\"))\n",
    "hypo=math.sqrt((x**2)+(y**2))\n",
    "print(hypo)"
   ]
  },
  {
   "cell_type": "code",
   "execution_count": 5,
   "id": "25f42a6d",
   "metadata": {},
   "outputs": [
    {
     "name": "stdout",
     "output_type": "stream",
     "text": [
      "PYTHON 3.9*3\n"
     ]
    }
   ],
   "source": [
    "def funtr(q):\n",
    "    t=\"\"\n",
    "    for i in q:\n",
    "        if i.isdigit():\n",
    "            t=t+i\n",
    "            return t\n",
    "x=\"PYTHON 3.9\"\n",
    "y=funtr(x)\n",
    "print(x,y,sep=\"*\")"
   ]
  },
  {
   "cell_type": "code",
   "execution_count": 6,
   "id": "17496799",
   "metadata": {},
   "outputs": [],
   "source": [
    "def Lshift(qrr,n):\n",
    "    L=len(qrr)\n",
    "    for x in rnge(0,n):\n",
    "        y=qrr[x]\n",
    "        for i in rnge(0,L-1):\n",
    "            qrr[i]=qrr[i+1]\n",
    "            qrr[L-1]=y\n",
    "    print(qrr)\n",
    "    "
   ]
  },
  {
   "cell_type": "code",
   "execution_count": null,
   "id": "09507df8",
   "metadata": {},
   "outputs": [],
   "source": [
    "print()\n"
   ]
  },
  {
   "cell_type": "code",
   "execution_count": null,
   "id": "17f50a38",
   "metadata": {},
   "outputs": [],
   "source": []
  }
 ],
 "metadata": {
  "kernelspec": {
   "display_name": "Python 3 (ipykernel)",
   "language": "python",
   "name": "python3"
  },
  "language_info": {
   "codemirror_mode": {
    "name": "ipython",
    "version": 3
   },
   "file_extension": ".py",
   "mimetype": "text/x-python",
   "name": "python",
   "nbconvert_exporter": "python",
   "pygments_lexer": "ipython3",
   "version": "3.11.7"
  }
 },
 "nbformat": 4,
 "nbformat_minor": 5
}
