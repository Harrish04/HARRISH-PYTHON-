{
 "cells": [
  {
   "cell_type": "markdown",
   "id": "5addf0a6",
   "metadata": {},
   "source": [
    "# Casting/Input I/O"
   ]
  },
  {
   "cell_type": "code",
   "execution_count": 1,
   "id": "3f7cb81c",
   "metadata": {},
   "outputs": [
    {
     "name": "stdout",
     "output_type": "stream",
     "text": [
      "10\n"
     ]
    }
   ],
   "source": [
    "x=10\n",
    "print(x)"
   ]
  },
  {
   "cell_type": "code",
   "execution_count": 2,
   "id": "043de4ec",
   "metadata": {},
   "outputs": [
    {
     "name": "stdout",
     "output_type": "stream",
     "text": [
      "1020\n"
     ]
    }
   ],
   "source": [
    "x=\"10\"\n",
    "y=\"20\"\n",
    "z=x+y\n",
    "print(z)"
   ]
  },
  {
   "cell_type": "code",
   "execution_count": 2,
   "id": "1355dcec",
   "metadata": {},
   "outputs": [
    {
     "name": "stdout",
     "output_type": "stream",
     "text": [
      "558\n",
      "31.880000000000003\n"
     ]
    }
   ],
   "source": [
    "x=float(\"10.90\")\n",
    "y=float(\"20.98\")\n",
    "first_Sem = 234\n",
    "scon_Sem = 324\n",
    "print(first_Sem+scon_Sem)\n",
    "print(x+y) #DYNAMIC, \" \",10.90,12,'B','@',''&','N'--> CHAR,0,1--> 2 --> 0-F,1-T"
   ]
  },
  {
   "cell_type": "code",
   "execution_count": 3,
   "id": "788c23e0",
   "metadata": {},
   "outputs": [
    {
     "name": "stdout",
     "output_type": "stream",
     "text": [
      "9\n",
      "9\n"
     ]
    }
   ],
   "source": [
    "x=input()\n",
    "print(x)"
   ]
  },
  {
   "cell_type": "code",
   "execution_count": 5,
   "id": "60388f66",
   "metadata": {},
   "outputs": [
    {
     "name": "stdout",
     "output_type": "stream",
     "text": [
      "naveen\n",
      "kumar\n",
      "naveenkumar\n"
     ]
    }
   ],
   "source": [
    "x=input()\n",
    "y=input()\n",
    "print(x+y)\n"
   ]
  },
  {
   "cell_type": "code",
   "execution_count": 6,
   "id": "1862253b",
   "metadata": {},
   "outputs": [
    {
     "name": "stdout",
     "output_type": "stream",
     "text": [
      "Enter your num-1 val:23\n",
      "Enter your num-2 val:34\n",
      "57\n"
     ]
    }
   ],
   "source": [
    "x=int(input(\"Enter your num-1 val:\"))\n",
    "y=int(input(\"Enter your num-2 val:\"))\n",
    "print(x+y)"
   ]
  },
  {
   "cell_type": "code",
   "execution_count": 9,
   "id": "919990ca",
   "metadata": {},
   "outputs": [
    {
     "name": "stdout",
     "output_type": "stream",
     "text": [
      "TCS\n",
      "CHENNAI\n",
      "My company is\t TCS\n",
      "My company is  TCS\n",
      "hi\n",
      "dude\n"
     ]
    }
   ],
   "source": [
    "company_name=input()\n",
    "location=input()\n",
    "print(\"My company is\\t\",company_name)\n",
    "print(\"My company is \",company_name)\n",
    "print(\"hi\\ndude\")#TAB SPACE \\T \\N "
   ]
  },
  {
   "cell_type": "code",
   "execution_count": null,
   "id": "e211a395",
   "metadata": {},
   "outputs": [],
   "source": [
    "GET INPUT\n",
    "\"my name is: Steve\"\n",
    "\"My Age is: 20\"\n",
    "\"my address is : Anna nager,chennai-600072\"\n",
    "GET integer inputfor variable x,y,v.mul all3(x*y*v) divide the mul value by added value print it.\n",
    "\n",
    "get input for name,score,department get score for100,divide 100/10"
   ]
  },
  {
   "cell_type": "code",
   "execution_count": 11,
   "id": "2f4cad43",
   "metadata": {},
   "outputs": [
    {
     "name": "stdout",
     "output_type": "stream",
     "text": [
      "ENTER THE X3\n",
      "ENTER THE Y2\n",
      "ENTER THE V4\n",
      "2.6666666666666665\n"
     ]
    }
   ],
   "source": [
    "x=int(input(\"ENTER THE X\"))\n",
    "y=int(input(\"ENTER THE Y\"))\n",
    "v=int(input(\"ENTER THE V\"))\n",
    "g=x*y*v #VARIABLE\n",
    "k=x+y+v\n",
    "d=g/k\n",
    "print(d)"
   ]
  },
  {
   "cell_type": "code",
   "execution_count": 16,
   "id": "a20e674a",
   "metadata": {},
   "outputs": [
    {
     "name": "stdout",
     "output_type": "stream",
     "text": [
      "nk\n",
      "welcome to python class nk\n"
     ]
    }
   ],
   "source": [
    "#commands\n",
    "name=input()\n",
    "print(\"welcome to python class \"+name) #+--> tr ,,"
   ]
  },
  {
   "cell_type": "markdown",
   "id": "c59f6637",
   "metadata": {},
   "source": [
    "# IF ELSE BOOLEAN VALUE,COMPARISION OPERA"
   ]
  },
  {
   "cell_type": "code",
   "execution_count": 3,
   "id": "d0ce873c",
   "metadata": {},
   "outputs": [
    {
     "name": "stdout",
     "output_type": "stream",
     "text": [
      "bye...\n"
     ]
    }
   ],
   "source": [
    "if False: #working true state \n",
    "    print(\"Hello buddy\")\n",
    "else:\n",
    "    print(\"bye...\")"
   ]
  },
  {
   "cell_type": "code",
   "execution_count": 4,
   "id": "e516bb4a",
   "metadata": {},
   "outputs": [
    {
     "name": "stdout",
     "output_type": "stream",
     "text": [
      "True\n"
     ]
    }
   ],
   "source": [
    "print(\"buddy\"!=\"budy\")"
   ]
  },
  {
   "cell_type": "code",
   "execution_count": 3,
   "id": "3fde25a6",
   "metadata": {},
   "outputs": [
    {
     "name": "stdout",
     "output_type": "stream",
     "text": [
      "hi dudeyyy...\n"
     ]
    }
   ],
   "source": [
    "friend_name = \"krish\"\n",
    "if(friend_name == \"krish\"):\n",
    "    print(\"hi dudeyyy...\")\n",
    "else:\n",
    "    print(\"hello\")"
   ]
  },
  {
   "cell_type": "code",
   "execution_count": 4,
   "id": "b4d65c49",
   "metadata": {},
   "outputs": [
    {
     "name": "stdout",
     "output_type": "stream",
     "text": [
      "Let's eat pizza...\n"
     ]
    }
   ],
   "source": [
    "food = \"Pizza\" #value assigning ==> check the of the valuse\n",
    "if(food == \"Pizza\"):\n",
    "    print(\"Let's eat pizza...\")\n",
    "else:\n",
    "    print(\"live in home\")"
   ]
  },
  {
   "cell_type": "code",
   "execution_count": 8,
   "id": "8e08264c",
   "metadata": {},
   "outputs": [
    {
     "name": "stdout",
     "output_type": "stream",
     "text": [
      "Tails\n"
     ]
    }
   ],
   "source": [
    "# write cricket toss decision Maker?\n",
    "import random\n",
    "print(random.choice([\"Head\",\"Tails\"])) # define"
   ]
  },
  {
   "cell_type": "code",
   "execution_count": 7,
   "id": "bda57758",
   "metadata": {},
   "outputs": [
    {
     "name": "stdout",
     "output_type": "stream",
     "text": [
      "pizza\n"
     ]
    }
   ],
   "source": [
    "import random\n",
    "print(random.choice((\"pizza\",\"biriyani\",\"ice\")))"
   ]
  },
  {
   "cell_type": "code",
   "execution_count": 23,
   "id": "3fe6a28d",
   "metadata": {},
   "outputs": [
    {
     "name": "stdout",
     "output_type": "stream",
     "text": [
      "enter the amt\t1300\n",
      "no option\n"
     ]
    }
   ],
   "source": [
    "#elseif\n",
    "amt=int(input(\"enter the amt\\t\"))\n",
    "if amt==800 :\n",
    "    print(\"WE Can tour chennai...\")\n",
    "elif amt==2000 :\n",
    "    print(\"WE can going KERALA\")\n",
    "else:\n",
    "    print(\"no option\")\n",
    "\n",
    "\n"
   ]
  },
  {
   "cell_type": "code",
   "execution_count": 26,
   "id": "86c24bfc",
   "metadata": {},
   "outputs": [
    {
     "name": "stdout",
     "output_type": "stream",
     "text": [
      "ent companysify\n",
      " this  not your dream job...\n"
     ]
    }
   ],
   "source": [
    "#nestedif\n",
    "company=input(\"ent company\")\n",
    "if company==\"TCS\":\n",
    "    print(\"thi i my dream\")\n",
    "    role=input(\"what is role..\")\n",
    "    if role==\"devloper\":\n",
    "        print(\"software eng\")\n",
    "    else:\n",
    "        print(\"your a tester\")\n",
    "else:\n",
    "    print(\" this  not your dream job...\")\n",
    "\n",
    "\n"
   ]
  },
  {
   "cell_type": "code",
   "execution_count": 1,
   "id": "37403f72",
   "metadata": {},
   "outputs": [
    {
     "name": "stdout",
     "output_type": "stream",
     "text": [
      "0\n",
      "1\n",
      "2\n"
     ]
    }
   ],
   "source": [
    "for i in range(5):\n",
    "    if i==3:\n",
    "        break\n",
    "    print(i)"
   ]
  },
  {
   "cell_type": "code",
   "execution_count": null,
   "id": "d8423ff2",
   "metadata": {},
   "outputs": [],
   "source": [
    " "
   ]
  },
  {
   "cell_type": "code",
   "execution_count": 7,
   "id": "7acd65f1",
   "metadata": {},
   "outputs": [],
   "source": [
    "# STRING OPERATIONS : \n",
    "\n",
    "    \n",
    "    \n"
   ]
  },
  {
   "cell_type": "code",
   "execution_count": 2,
   "id": "61bec53a",
   "metadata": {},
   "outputs": [
    {
     "name": "stdout",
     "output_type": "stream",
     "text": [
      "22\n",
      "2\n",
      "120\n",
      "1.2\n",
      "2\n"
     ]
    }
   ],
   "source": [
    "# +,-,/,*,%\n",
    "\n",
    "x=12\n",
    "y=10\n",
    "print(x+y)\n",
    "print(x-y)\n",
    "print(x*y)\n",
    "print(x/y)\n",
    "print(x%y)\n"
   ]
  },
  {
   "cell_type": "code",
   "execution_count": 7,
   "id": "2da9d1a5",
   "metadata": {},
   "outputs": [
    {
     "name": "stdout",
     "output_type": "stream",
     "text": [
      "22\n",
      "-2\n"
     ]
    }
   ],
   "source": [
    "x=12\n",
    "c=10\n",
    "c+=x# c=c+x==> c=10+12 ==> 22\n",
    "print(c)\n",
    "c=10\n",
    "c-=x\n",
    "print(c)\n",
    "\n",
    "# c-=x #c=c-x 10-12 \n",
    "# print(c)\n",
    "# c*=x\n",
    "# print(c)\n",
    "# c/=x\n",
    "# print(c)\n",
    "# c%=x\n",
    "# print(c)\n",
    " "
   ]
  },
  {
   "cell_type": "code",
   "execution_count": 9,
   "id": "4fc12242",
   "metadata": {},
   "outputs": [
    {
     "data": {
      "text/plain": [
       "False"
      ]
     },
     "execution_count": 9,
     "metadata": {},
     "output_type": "execute_result"
    }
   ],
   "source": [
    "#  comparision relational --> ==,<,>,<=,>=,!=\n",
    "name = \"python\"\n",
    "name1=\"java\"\n",
    "\n",
    "name==name1\n",
    "    "
   ]
  },
  {
   "cell_type": "code",
   "execution_count": 12,
   "id": "652b1c6a",
   "metadata": {},
   "outputs": [
    {
     "name": "stdout",
     "output_type": "stream",
     "text": [
      "False\n",
      "False\n",
      "True\n"
     ]
    }
   ],
   "source": [
    "print(12<10)\n",
    "print(12<=10)\n",
    "print(12>=10)\n",
    "    "
   ]
  },
  {
   "cell_type": "code",
   "execution_count": 18,
   "id": "6ddc3463",
   "metadata": {},
   "outputs": [
    {
     "data": {
      "text/plain": [
       "False"
      ]
     },
     "execution_count": 18,
     "metadata": {},
     "output_type": "execute_result"
    }
   ],
   "source": [
    " #AND,OR,NOT(&&,||,!)\n",
    "    \n",
    "mark=12\n",
    "m2=13\n",
    "(mark<10)and (mark==12) #f t--> f\n",
    "(mark<10)or (mark==12) #f t --> t\n",
    "not((mark<10)or (mark==12)) #or-->t--> f\n",
    "     "
   ]
  },
  {
   "cell_type": "code",
   "execution_count": 20,
   "id": "17de6906",
   "metadata": {},
   "outputs": [
    {
     "data": {
      "text/plain": [
       "False"
      ]
     },
     "execution_count": 20,
     "metadata": {},
     "output_type": "execute_result"
    }
   ],
   "source": [
    " (mark<10)and (mark==12)"
   ]
  },
  {
   "cell_type": "code",
   "execution_count": null,
   "id": "4afc14f5",
   "metadata": {},
   "outputs": [],
   "source": [
    " "
   ]
  },
  {
   "cell_type": "code",
   "execution_count": null,
   "id": "84d87ba5",
   "metadata": {},
   "outputs": [],
   "source": []
  },
  {
   "cell_type": "code",
   "execution_count": null,
   "id": "9bc341ae",
   "metadata": {},
   "outputs": [],
   "source": []
  },
  {
   "cell_type": "code",
   "execution_count": null,
   "id": "1d91cfdb",
   "metadata": {},
   "outputs": [],
   "source": []
  },
  {
   "cell_type": "code",
   "execution_count": null,
   "id": "1379962b",
   "metadata": {},
   "outputs": [],
   "source": []
  },
  {
   "cell_type": "code",
   "execution_count": null,
   "id": "b611aad0",
   "metadata": {},
   "outputs": [],
   "source": []
  },
  {
   "cell_type": "code",
   "execution_count": null,
   "id": "6694b978",
   "metadata": {},
   "outputs": [],
   "source": []
  },
  {
   "cell_type": "code",
   "execution_count": null,
   "id": "5f88d47d",
   "metadata": {},
   "outputs": [],
   "source": []
  },
  {
   "cell_type": "code",
   "execution_count": null,
   "id": "078fa264",
   "metadata": {},
   "outputs": [],
   "source": []
  },
  {
   "cell_type": "code",
   "execution_count": null,
   "id": "1b05828a",
   "metadata": {},
   "outputs": [],
   "source": []
  },
  {
   "cell_type": "code",
   "execution_count": null,
   "id": "b9842b30",
   "metadata": {},
   "outputs": [],
   "source": []
  },
  {
   "cell_type": "code",
   "execution_count": null,
   "id": "1f75fbf0",
   "metadata": {},
   "outputs": [],
   "source": []
  },
  {
   "cell_type": "code",
   "execution_count": null,
   "id": "f06ca288",
   "metadata": {},
   "outputs": [],
   "source": []
  },
  {
   "cell_type": "code",
   "execution_count": null,
   "id": "801c0914",
   "metadata": {},
   "outputs": [],
   "source": []
  },
  {
   "cell_type": "code",
   "execution_count": null,
   "id": "48a44e70",
   "metadata": {},
   "outputs": [],
   "source": []
  },
  {
   "cell_type": "code",
   "execution_count": null,
   "id": "9a628e0b",
   "metadata": {},
   "outputs": [],
   "source": [
    " #output function                                                                   "
   ]
  },
  {
   "cell_type": "code",
   "execution_count": null,
   "id": "9cdf15e6",
   "metadata": {},
   "outputs": [],
   "source": [
    "ghhyhh     "
   ]
  },
  {
   "cell_type": "code",
   "execution_count": 37,
   "id": "2b9a24dc",
   "metadata": {},
   "outputs": [
    {
     "name": "stdout",
     "output_type": "stream",
     "text": [
      "hi\n",
      "\thello\n",
      "\tpython \t\t pizza\n"
     ]
    }
   ],
   "source": [
    "print(\"hi\\n\\thello\")\n",
    "print(\"\\tpython \\t\\t pizza\")\n",
    "#commod notes raw content\n",
    "#print(\"python\")\n",
    "#\\t tb \n",
    "#\\n new line\n"
   ]
  },
  {
   "cell_type": "code",
   "execution_count": 21,
   "id": "bb0d6d89",
   "metadata": {},
   "outputs": [
    {
     "name": "stdout",
     "output_type": "stream",
     "text": [
      "6778955666ghyjufvdr\n"
     ]
    }
   ],
   "source": [
    "print('6778955666ghyjufvdr')"
   ]
  },
  {
   "cell_type": "code",
   "execution_count": 23,
   "id": "3a4b6d47",
   "metadata": {},
   "outputs": [
    {
     "name": "stdout",
     "output_type": "stream",
     "text": [
      "4554455.899\n"
     ]
    }
   ],
   "source": [
    "print(4554455.899)"
   ]
  },
  {
   "cell_type": "code",
   "execution_count": 25,
   "id": "dda59e22",
   "metadata": {},
   "outputs": [
    {
     "name": "stdout",
     "output_type": "stream",
     "text": [
      "ghhyj\n"
     ]
    }
   ],
   "source": [
    "print('ghhyj')"
   ]
  },
  {
   "cell_type": "code",
   "execution_count": 28,
   "id": "8091c2e9",
   "metadata": {},
   "outputs": [
    {
     "name": "stdout",
     "output_type": "stream",
     "text": [
      "enter name of the film jumanji\n"
     ]
    }
   ],
   "source": [
    "movie_name=input(\"enter name of the film \")\n"
   ]
  },
  {
   "cell_type": "code",
   "execution_count": 29,
   "id": "ab9affa7",
   "metadata": {},
   "outputs": [
    {
     "data": {
      "text/plain": [
       "'jumanji'"
      ]
     },
     "execution_count": 29,
     "metadata": {},
     "output_type": "execute_result"
    }
   ],
   "source": [
    "movie_name"
   ]
  },
  {
   "cell_type": "code",
   "execution_count": 30,
   "id": "38621d0b",
   "metadata": {},
   "outputs": [
    {
     "name": "stdout",
     "output_type": "stream",
     "text": [
      "enter amt 200\n",
      "THE price is200\n"
     ]
    }
   ],
   "source": [
    "ticketPrice=input(\"enter amt \")\n",
    "print(\"THE price is \"+ticketPrice)"
   ]
  },
  {
   "cell_type": "code",
   "execution_count": 33,
   "id": "06b88b1e",
   "metadata": {},
   "outputs": [
    {
     "name": "stdout",
     "output_type": "stream",
     "text": [
      "enter your favourite food rice\n",
      " your favourite food is rice\n"
     ]
    }
   ],
   "source": [
    "favouriteFood=input(\"enter your favourite food \")\n",
    "print(\" your favourite food is \"+favouriteFood)"
   ]
  },
  {
   "cell_type": "code",
   "execution_count": null,
   "id": "59a7d37b",
   "metadata": {},
   "outputs": [],
   "source": [
    "        "
   ]
  }
 ],
 "metadata": {
  "kernelspec": {
   "display_name": "Python 3 (ipykernel)",
   "language": "python",
   "name": "python3"
  },
  "language_info": {
   "codemirror_mode": {
    "name": "ipython",
    "version": 3
   },
   "file_extension": ".py",
   "mimetype": "text/x-python",
   "name": "python",
   "nbconvert_exporter": "python",
   "pygments_lexer": "ipython3",
   "version": "3.11.7"
  }
 },
 "nbformat": 4,
 "nbformat_minor": 5
}
