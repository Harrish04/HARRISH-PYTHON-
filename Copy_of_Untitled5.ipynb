{
  "nbformat": 4,
  "nbformat_minor": 0,
  "metadata": {
    "colab": {
      "provenance": [],
      "authorship_tag": "ABX9TyP5lFuHDFEGxv/4Ov+jHN+6",
      "include_colab_link": true
    },
    "kernelspec": {
      "name": "python3",
      "display_name": "Python 3"
    },
    "language_info": {
      "name": "python"
    }
  },
  "cells": [
    {
      "cell_type": "markdown",
      "metadata": {
        "id": "view-in-github",
        "colab_type": "text"
      },
      "source": [
        "<a href=\"https://colab.research.google.com/github/Harrish04/HARRISH-PYTHON-/blob/main/Copy_of_Untitled5.ipynb\" target=\"_parent\"><img src=\"https://colab.research.google.com/assets/colab-badge.svg\" alt=\"Open In Colab\"/></a>"
      ]
    },
    {
      "cell_type": "code",
      "execution_count": null,
      "metadata": {
        "colab": {
          "base_uri": "https://localhost:8080/"
        },
        "id": "ywISodDo6qfk",
        "outputId": "67c554db-cdca-4f44-aa21-793491286878"
      },
      "outputs": [
        {
          "output_type": "stream",
          "name": "stdout",
          "text": [
            "[1, 2, 3, 4, 6]\n"
          ]
        }
      ],
      "source": [
        "# What is the best way to remove values from a Python array?\n",
        "my_list = [1,2,3,4,5,6]\n",
        "my_list.remove(5)\n",
        "print(my_list)"
      ]
    },
    {
      "cell_type": "code",
      "source": [
        "# Write a program to print the following pattern.\n",
        "# Below is the Program to print the following pattern:\n",
        "# *\n",
        "# * *\n",
        "# * * *\n",
        "# * * * *\n",
        "# * * * * *\n",
        "\n",
        "def print_pattern(n):\n",
        "  for i in range(1, n+1):\n",
        "        print(' * ' * i)\n",
        "\n",
        "n = 5\n",
        "print_pattern(n)"
      ],
      "metadata": {
        "colab": {
          "base_uri": "https://localhost:8080/"
        },
        "id": "ZwIYMsr69Xcl",
        "outputId": "7288df00-5c6e-4db1-9a45-c80a2cce7f78"
      },
      "execution_count": null,
      "outputs": [
        {
          "output_type": "stream",
          "name": "stdout",
          "text": [
            " * \n",
            " *  * \n",
            " *  *  * \n",
            " *  *  *  * \n",
            " *  *  *  *  * \n"
          ]
        }
      ]
    },
    {
      "cell_type": "code",
      "source": [
        "# Write a program to print the following pattern.\n",
        "# Below is the Program to print the following pattern:\n",
        "# 1\n",
        "# 2 3\n",
        "# 4 5 6\n",
        "# 7 8 9 10\n",
        "# 11 12 13 14 15\n",
        "def print_pattern(n):\n",
        "  current_no = 1\n",
        "  for i in range(1,n+1):\n",
        "    for j in range(i):\n",
        "      print(current_no,end=\" \")\n",
        "      current_no += 1\n",
        "    print()\n",
        "\n",
        "n = 5\n",
        "print_pattern(n)\n"
      ],
      "metadata": {
        "colab": {
          "base_uri": "https://localhost:8080/"
        },
        "id": "YWSNB3LNArR6",
        "outputId": "fbd1139a-908d-448a-b2f2-b81d690cf0b5"
      },
      "execution_count": null,
      "outputs": [
        {
          "output_type": "stream",
          "name": "stdout",
          "text": [
            "1 \n",
            "2 3 \n",
            "4 5 6 \n",
            "7 8 9 10 \n",
            "11 12 13 14 15 \n"
          ]
        }
      ]
    },
    {
      "cell_type": "code",
      "source": [
        "# Write a program to find if the given number is prime or not\n",
        "a = 7\n",
        "for i in range(2,a):\n",
        "    if a % i==0:\n",
        "     print(\"not prime\")\n",
        "     break\n",
        "else :\n",
        "    print(\"prime\")"
      ],
      "metadata": {
        "colab": {
          "base_uri": "https://localhost:8080/"
        },
        "id": "vmY2WxVQI9y0",
        "outputId": "d450f9d3-4167-459e-e5a5-40333cde6519"
      },
      "execution_count": null,
      "outputs": [
        {
          "output_type": "stream",
          "name": "stdout",
          "text": [
            "prime\n"
          ]
        }
      ]
    },
    {
      "cell_type": "code",
      "source": [
        "# Compute the LCM of two given numbers using Python code\n",
        "import math\n",
        "a = int(input(\"Enter First number : \"))\n",
        "b = int(input(\"Enter second number : \"))\n",
        "print(math.lcm(a,b))"
      ],
      "metadata": {
        "colab": {
          "base_uri": "https://localhost:8080/"
        },
        "id": "uHQCylQsTWxl",
        "outputId": "45c4cf2d-6760-4a4e-f1a1-bbfa6acf031d"
      },
      "execution_count": null,
      "outputs": [
        {
          "output_type": "stream",
          "name": "stdout",
          "text": [
            "Enter First number : 24\n",
            "Enter second number : 36\n",
            "72\n"
          ]
        }
      ]
    },
    {
      "cell_type": "code",
      "source": [
        "#  Write a Python program to print the alphabet pattern 'O'.\n",
        "#  ***\n",
        "# *   *\n",
        "# *   *\n",
        "# *   *\n",
        "# *   *\n",
        "# *   *\n",
        "#  ***\n",
        "def print_pattern_O():\n",
        "    for i in range(7):\n",
        "        for j in range(5):\n",
        "            if (i == 0 or i == 6) and (j > 0 and j < 4) or (i > 0 and i < 6) and (j == 0 or j == 4):\n",
        "                print(\"*\", end=\"\")\n",
        "            else:\n",
        "                print(\" \", end=\"\")\n",
        "        print()\n",
        "\n",
        "print_pattern_O()\n"
      ],
      "metadata": {
        "colab": {
          "base_uri": "https://localhost:8080/"
        },
        "id": "pVEkl649eWRR",
        "outputId": "8250a238-be1a-4e7c-896a-8fb8358d5419"
      },
      "execution_count": null,
      "outputs": [
        {
          "output_type": "stream",
          "name": "stdout",
          "text": [
            " *** \n",
            "*   *\n",
            "*   *\n",
            "*   *\n",
            "*   *\n",
            "*   *\n",
            " *** \n"
          ]
        }
      ]
    },
    {
      "cell_type": "code",
      "source": [
        "#  Write a Python program to check if a given number is positive, negative, or zero\n",
        "def check_number(a):\n",
        "    if a > 0:\n",
        "        print(f\"{a} is positive.\")\n",
        "    elif a < 0:\n",
        "        print(f\"{a} is negative.\")\n",
        "    else:\n",
        "        print(\"The a is zero.\")\n",
        "\n",
        "a = 4\n",
        "check_number(a)\n",
        "\n",
        "a = -1.5\n",
        "check_number(a)\n",
        "\n",
        "a = 0\n",
        "check_number(a)\n"
      ],
      "metadata": {
        "colab": {
          "base_uri": "https://localhost:8080/"
        },
        "id": "gngkFUCor5nM",
        "outputId": "6ca8baca-6218-4b21-8095-98a31920a844"
      },
      "execution_count": null,
      "outputs": [
        {
          "output_type": "stream",
          "name": "stdout",
          "text": [
            "4 is positive.\n",
            "-1.5 is negative.\n",
            "The a is zero.\n"
          ]
        }
      ]
    },
    {
      "cell_type": "code",
      "source": [
        "# Write a code to display the current time?\n",
        "from datetime import datetime\n",
        "\n",
        "# Get the current time\n",
        "current_time = datetime.now().time()\n",
        "\n",
        "# Print the current time\n",
        "print(\"Current Time:\", current_time)\n"
      ],
      "metadata": {
        "id": "_tUaY4n2whSH",
        "colab": {
          "base_uri": "https://localhost:8080/"
        },
        "outputId": "b7bb4970-7361-4518-a6bb-a0daa2ab1144"
      },
      "execution_count": 11,
      "outputs": [
        {
          "output_type": "stream",
          "name": "stdout",
          "text": [
            "Current Time: 13:04:04.796724\n"
          ]
        }
      ]
    }
  ]
}